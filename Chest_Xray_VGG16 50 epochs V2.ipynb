{
  "nbformat": 4,
  "nbformat_minor": 0,
  "metadata": {
    "accelerator": "GPU",
    "colab": {
      "name": "Chest Xray VGG16.ipynb",
      "provenance": [],
      "collapsed_sections": [],
      "include_colab_link": true
    },
    "kernelspec": {
      "display_name": "Python 3",
      "name": "python3"
    },
    "language_info": {
      "name": "python"
    }
  },
  "cells": [
    {
      "cell_type": "markdown",
      "metadata": {
        "id": "view-in-github",
        "colab_type": "text"
      },
      "source": [
        "<a href=\"https://colab.research.google.com/github/nahu9815/inteligencia_artificial/blob/main/Chest_Xray_VGG16%2050%20epochs%20V2.ipynb\" target=\"_parent\"><img src=\"https://colab.research.google.com/assets/colab-badge.svg\" alt=\"Open In Colab\"/></a>"
      ]
    },
    {
      "cell_type": "code",
      "metadata": {
        "id": "OdZY7LCRo9OY"
      },
      "source": [
        "import os\n",
        "from keras.preprocessing.image import ImageDataGenerator \n",
        "# https://keras.io/api/preprocessing/image/#image-data-preprocessing\n",
        "from keras.applications.imagenet_utils import preprocess_input\n",
        "\n",
        "from keras.applications.vgg16 import VGG16\n",
        "#from keras.applications.resnet50 import ResNet50\n",
        "from keras.applications.inception_v3 import InceptionV3\n",
        "from keras.models import Model\n",
        "\n",
        "from keras.layers import Dense, Flatten\n",
        "\n",
        "from keras.optimizers import Adam\n",
        "from keras.losses import binary_crossentropy\n",
        "from keras.metrics import accuracy\n",
        "\n",
        "import matplotlib.pyplot as plt\n",
        "#!pip install pandas"
      ],
      "execution_count": 3,
      "outputs": []
    },
    {
      "cell_type": "code",
      "metadata": {
        "colab": {
          "base_uri": "https://localhost:8080/"
        },
        "id": "4yp-rPUopcf4",
        "outputId": "e3ef8631-c27d-40a2-e591-dc7b1c89cf32"
      },
      "source": [
        "from google.colab import drive\n",
        "drive.mount('/content/drive')"
      ],
      "execution_count": 2,
      "outputs": [
        {
          "output_type": "stream",
          "text": [
            "Mounted at /content/drive\n"
          ],
          "name": "stdout"
        }
      ]
    },
    {
      "cell_type": "code",
      "metadata": {
        "colab": {
          "base_uri": "https://localhost:8080/"
        },
        "id": "IrOjDMLVpCLY",
        "outputId": "b371c168-5344-4ae1-ba9e-cb57f5453f9d"
      },
      "source": [
        "pathTrain = '/content/drive/MyDrive/INTELIGENCIA_ARTIFICIAL_GRUPO/chest_xray/train/'\n",
        "pathTest = '/content/drive/MyDrive/INTELIGENCIA_ARTIFICIAL_GRUPO/chest_xray/test/'\n",
        "\n",
        "if (os.path.exists(pathTrain) and os.path.exists(pathTest)):\n",
        "    print('OK')\n",
        "else:\n",
        "    print('No existen carpetas')\n",
        "    "
      ],
      "execution_count": 4,
      "outputs": [
        {
          "output_type": "stream",
          "text": [
            "OK\n"
          ],
          "name": "stdout"
        }
      ]
    },
    {
      "cell_type": "code",
      "metadata": {
        "colab": {
          "base_uri": "https://localhost:8080/"
        },
        "id": "8232A0pLpIkW",
        "outputId": "d1c99b53-f108-41ed-afb2-babefbdade29"
      },
      "source": [
        "images_increased = 5\n",
        "width_shape = 224\n",
        "height_shape = 224\n",
        "batch_size = 32\n",
        "\n",
        "train_datagen = ImageDataGenerator(\n",
        "    rotation_range=20, # rota 20 grados\n",
        "    zoom_range=0.2, # zoom\n",
        "    width_shift_range=0.1, # desplazar 10%\n",
        "    height_shift_range=0.1,  # desplazar 10%\n",
        "    horizontal_flip=True, # invertir horizontalmente\n",
        "    vertical_flip=False,\n",
        "    preprocessing_function=preprocess_input\n",
        ")\n",
        "\n",
        "valid_datagen = ImageDataGenerator(    \n",
        "    rotation_range=20,\n",
        "    zoom_range=0.2,\n",
        "    width_shift_range=0.1,\n",
        "    height_shift_range=0.1,\n",
        "    horizontal_flip=True,\n",
        "    vertical_flip=False,\n",
        "    preprocessing_function=preprocess_input)\n",
        "\n",
        "train_generator = train_datagen.flow_from_directory(  \n",
        "    pathTrain,\n",
        "    target_size=(width_shape, height_shape),\n",
        "    batch_size=batch_size,\n",
        "    class_mode='binary')\n",
        "\n",
        "validation_generator = valid_datagen.flow_from_directory(  \n",
        "    pathTest,\n",
        "    target_size=(width_shape, height_shape),\n",
        "    batch_size=batch_size,\n",
        "    class_mode='binary')"
      ],
      "execution_count": 5,
      "outputs": [
        {
          "output_type": "stream",
          "text": [
            "Found 5232 images belonging to 2 classes.\n",
            "Found 624 images belonging to 2 classes.\n"
          ],
          "name": "stdout"
        }
      ]
    },
    {
      "cell_type": "code",
      "metadata": {
        "colab": {
          "base_uri": "https://localhost:8080/"
        },
        "id": "WvqFmrW8pKn1",
        "outputId": "ac43ae80-d207-4c9e-f76b-a2949b266cbd"
      },
      "source": [
        "inputShape = (height_shape, width_shape, 3)\n",
        "\n",
        "model = VGG16(include_top=False, weights=\"imagenet\", input_shape=inputShape)\n",
        "for layer in model.layers:\n",
        "    layer.trainable = False\n",
        "model.summary()\n",
        "\n",
        "#model = InceptionV3(include_top=False, weights=\"imagenet\", input_shape=inputShape)\n",
        "#model.summary()\n",
        "    \n",
        "   "
      ],
      "execution_count": 6,
      "outputs": [
        {
          "output_type": "stream",
          "text": [
            "Downloading data from https://storage.googleapis.com/tensorflow/keras-applications/vgg16/vgg16_weights_tf_dim_ordering_tf_kernels_notop.h5\n",
            "58892288/58889256 [==============================] - 0s 0us/step\n",
            "58900480/58889256 [==============================] - 0s 0us/step\n",
            "Model: \"vgg16\"\n",
            "_________________________________________________________________\n",
            "Layer (type)                 Output Shape              Param #   \n",
            "=================================================================\n",
            "input_1 (InputLayer)         [(None, 224, 224, 3)]     0         \n",
            "_________________________________________________________________\n",
            "block1_conv1 (Conv2D)        (None, 224, 224, 64)      1792      \n",
            "_________________________________________________________________\n",
            "block1_conv2 (Conv2D)        (None, 224, 224, 64)      36928     \n",
            "_________________________________________________________________\n",
            "block1_pool (MaxPooling2D)   (None, 112, 112, 64)      0         \n",
            "_________________________________________________________________\n",
            "block2_conv1 (Conv2D)        (None, 112, 112, 128)     73856     \n",
            "_________________________________________________________________\n",
            "block2_conv2 (Conv2D)        (None, 112, 112, 128)     147584    \n",
            "_________________________________________________________________\n",
            "block2_pool (MaxPooling2D)   (None, 56, 56, 128)       0         \n",
            "_________________________________________________________________\n",
            "block3_conv1 (Conv2D)        (None, 56, 56, 256)       295168    \n",
            "_________________________________________________________________\n",
            "block3_conv2 (Conv2D)        (None, 56, 56, 256)       590080    \n",
            "_________________________________________________________________\n",
            "block3_conv3 (Conv2D)        (None, 56, 56, 256)       590080    \n",
            "_________________________________________________________________\n",
            "block3_pool (MaxPooling2D)   (None, 28, 28, 256)       0         \n",
            "_________________________________________________________________\n",
            "block4_conv1 (Conv2D)        (None, 28, 28, 512)       1180160   \n",
            "_________________________________________________________________\n",
            "block4_conv2 (Conv2D)        (None, 28, 28, 512)       2359808   \n",
            "_________________________________________________________________\n",
            "block4_conv3 (Conv2D)        (None, 28, 28, 512)       2359808   \n",
            "_________________________________________________________________\n",
            "block4_pool (MaxPooling2D)   (None, 14, 14, 512)       0         \n",
            "_________________________________________________________________\n",
            "block5_conv1 (Conv2D)        (None, 14, 14, 512)       2359808   \n",
            "_________________________________________________________________\n",
            "block5_conv2 (Conv2D)        (None, 14, 14, 512)       2359808   \n",
            "_________________________________________________________________\n",
            "block5_conv3 (Conv2D)        (None, 14, 14, 512)       2359808   \n",
            "_________________________________________________________________\n",
            "block5_pool (MaxPooling2D)   (None, 7, 7, 512)         0         \n",
            "=================================================================\n",
            "Total params: 14,714,688\n",
            "Trainable params: 0\n",
            "Non-trainable params: 14,714,688\n",
            "_________________________________________________________________\n"
          ],
          "name": "stdout"
        }
      ]
    },
    {
      "cell_type": "code",
      "metadata": {
        "id": "eFkVbaEZpM8R"
      },
      "source": [
        "def load_fc_layers(model):\n",
        "    \n",
        "    # add new classifier layers\n",
        "    flat = Flatten()(model.layers[-1].output)\n",
        "    dense = Dense(128, activation='relu', kernel_initializer='he_uniform')(flat)\n",
        "    output = Dense(1, activation='sigmoid')(dense)\n",
        "    model = Model(inputs=model.inputs, outputs=output)\n",
        "    \n",
        "    return model"
      ],
      "execution_count": 7,
      "outputs": []
    },
    {
      "cell_type": "code",
      "metadata": {
        "colab": {
          "base_uri": "https://localhost:8080/"
        },
        "id": "v1Xe-FuJpQCt",
        "outputId": "26a8a713-ffcc-4cda-8ce9-327228a7f158"
      },
      "source": [
        "fullModel = load_fc_layers(model)\n",
        "fullModel.summary()"
      ],
      "execution_count": 8,
      "outputs": [
        {
          "output_type": "stream",
          "text": [
            "Model: \"model\"\n",
            "_________________________________________________________________\n",
            "Layer (type)                 Output Shape              Param #   \n",
            "=================================================================\n",
            "input_1 (InputLayer)         [(None, 224, 224, 3)]     0         \n",
            "_________________________________________________________________\n",
            "block1_conv1 (Conv2D)        (None, 224, 224, 64)      1792      \n",
            "_________________________________________________________________\n",
            "block1_conv2 (Conv2D)        (None, 224, 224, 64)      36928     \n",
            "_________________________________________________________________\n",
            "block1_pool (MaxPooling2D)   (None, 112, 112, 64)      0         \n",
            "_________________________________________________________________\n",
            "block2_conv1 (Conv2D)        (None, 112, 112, 128)     73856     \n",
            "_________________________________________________________________\n",
            "block2_conv2 (Conv2D)        (None, 112, 112, 128)     147584    \n",
            "_________________________________________________________________\n",
            "block2_pool (MaxPooling2D)   (None, 56, 56, 128)       0         \n",
            "_________________________________________________________________\n",
            "block3_conv1 (Conv2D)        (None, 56, 56, 256)       295168    \n",
            "_________________________________________________________________\n",
            "block3_conv2 (Conv2D)        (None, 56, 56, 256)       590080    \n",
            "_________________________________________________________________\n",
            "block3_conv3 (Conv2D)        (None, 56, 56, 256)       590080    \n",
            "_________________________________________________________________\n",
            "block3_pool (MaxPooling2D)   (None, 28, 28, 256)       0         \n",
            "_________________________________________________________________\n",
            "block4_conv1 (Conv2D)        (None, 28, 28, 512)       1180160   \n",
            "_________________________________________________________________\n",
            "block4_conv2 (Conv2D)        (None, 28, 28, 512)       2359808   \n",
            "_________________________________________________________________\n",
            "block4_conv3 (Conv2D)        (None, 28, 28, 512)       2359808   \n",
            "_________________________________________________________________\n",
            "block4_pool (MaxPooling2D)   (None, 14, 14, 512)       0         \n",
            "_________________________________________________________________\n",
            "block5_conv1 (Conv2D)        (None, 14, 14, 512)       2359808   \n",
            "_________________________________________________________________\n",
            "block5_conv2 (Conv2D)        (None, 14, 14, 512)       2359808   \n",
            "_________________________________________________________________\n",
            "block5_conv3 (Conv2D)        (None, 14, 14, 512)       2359808   \n",
            "_________________________________________________________________\n",
            "block5_pool (MaxPooling2D)   (None, 7, 7, 512)         0         \n",
            "_________________________________________________________________\n",
            "flatten (Flatten)            (None, 25088)             0         \n",
            "_________________________________________________________________\n",
            "dense (Dense)                (None, 128)               3211392   \n",
            "_________________________________________________________________\n",
            "dense_1 (Dense)              (None, 1)                 129       \n",
            "=================================================================\n",
            "Total params: 17,926,209\n",
            "Trainable params: 3,211,521\n",
            "Non-trainable params: 14,714,688\n",
            "_________________________________________________________________\n"
          ],
          "name": "stdout"
        }
      ]
    },
    {
      "cell_type": "code",
      "metadata": {
        "id": "sZ_VlmHEpSsm"
      },
      "source": [
        "adam = Adam(learning_rate=0.001)\n",
        "\n",
        "fullModel.compile(\n",
        "    optimizer=adam,\n",
        "    loss=binary_crossentropy,\n",
        "    metrics=[accuracy]\n",
        ")"
      ],
      "execution_count": 9,
      "outputs": []
    },
    {
      "cell_type": "code",
      "metadata": {
        "colab": {
          "base_uri": "https://localhost:8080/"
        },
        "id": "VPfIKnwwpUxV",
        "outputId": "73087aad-64d0-42f4-cbb3-ccde291b45d0"
      },
      "source": [
        "epoch = 50\n",
        "\n",
        "history = fullModel.fit(\n",
        "    train_generator,\n",
        "    validation_data=validation_generator,\n",
        "    epochs=epoch\n",
        ")"
      ],
      "execution_count": 10,
      "outputs": [
        {
          "output_type": "stream",
          "text": [
            "Epoch 1/50\n",
            "164/164 [==============================] - 911s 5s/step - loss: 3.4393 - accuracy: 0.5328 - val_loss: 0.4993 - val_accuracy: 0.2115\n",
            "Epoch 2/50\n",
            "164/164 [==============================] - 119s 726ms/step - loss: 0.1296 - accuracy: 0.1507 - val_loss: 0.2366 - val_accuracy: 0.1042\n",
            "Epoch 3/50\n",
            "164/164 [==============================] - 119s 723ms/step - loss: 0.0910 - accuracy: 0.1060 - val_loss: 0.4939 - val_accuracy: 0.1587\n",
            "Epoch 4/50\n",
            "164/164 [==============================] - 119s 725ms/step - loss: 0.1156 - accuracy: 0.1104 - val_loss: 0.3216 - val_accuracy: 0.1619\n",
            "Epoch 5/50\n",
            "164/164 [==============================] - 118s 720ms/step - loss: 0.0800 - accuracy: 0.1289 - val_loss: 0.2931 - val_accuracy: 0.1154\n",
            "Epoch 6/50\n",
            "164/164 [==============================] - 120s 732ms/step - loss: 0.0560 - accuracy: 0.1511 - val_loss: 0.4298 - val_accuracy: 0.1394\n",
            "Epoch 7/50\n",
            "164/164 [==============================] - 118s 721ms/step - loss: 0.0657 - accuracy: 0.1147 - val_loss: 0.3929 - val_accuracy: 0.1138\n",
            "Epoch 8/50\n",
            "164/164 [==============================] - 119s 726ms/step - loss: 0.0671 - accuracy: 0.1344 - val_loss: 0.2601 - val_accuracy: 0.1571\n",
            "Epoch 9/50\n",
            "164/164 [==============================] - 119s 722ms/step - loss: 0.0739 - accuracy: 0.1857 - val_loss: 0.3106 - val_accuracy: 0.1282\n",
            "Epoch 10/50\n",
            "164/164 [==============================] - 118s 721ms/step - loss: 0.0580 - accuracy: 0.1316 - val_loss: 0.4183 - val_accuracy: 0.1314\n",
            "Epoch 11/50\n",
            "164/164 [==============================] - 118s 722ms/step - loss: 0.0506 - accuracy: 0.1824 - val_loss: 0.3135 - val_accuracy: 0.1362\n",
            "Epoch 12/50\n",
            "164/164 [==============================] - 119s 722ms/step - loss: 0.0454 - accuracy: 0.1633 - val_loss: 0.3881 - val_accuracy: 0.2420\n",
            "Epoch 13/50\n",
            "164/164 [==============================] - 118s 720ms/step - loss: 0.0437 - accuracy: 0.2085 - val_loss: 0.2993 - val_accuracy: 0.1907\n",
            "Epoch 14/50\n",
            "164/164 [==============================] - 118s 721ms/step - loss: 0.0611 - accuracy: 0.1639 - val_loss: 0.3692 - val_accuracy: 0.1410\n",
            "Epoch 15/50\n",
            "164/164 [==============================] - 118s 720ms/step - loss: 0.0716 - accuracy: 0.1507 - val_loss: 0.3345 - val_accuracy: 0.1394\n",
            "Epoch 16/50\n",
            "164/164 [==============================] - 118s 721ms/step - loss: 0.0543 - accuracy: 0.1296 - val_loss: 0.3666 - val_accuracy: 0.1554\n",
            "Epoch 17/50\n",
            "164/164 [==============================] - 118s 721ms/step - loss: 0.0522 - accuracy: 0.1283 - val_loss: 0.2655 - val_accuracy: 0.1362\n",
            "Epoch 18/50\n",
            "164/164 [==============================] - 118s 720ms/step - loss: 0.0402 - accuracy: 0.1897 - val_loss: 0.3282 - val_accuracy: 0.1747\n",
            "Epoch 19/50\n",
            "164/164 [==============================] - 118s 720ms/step - loss: 0.0625 - accuracy: 0.1296 - val_loss: 0.3772 - val_accuracy: 0.1202\n",
            "Epoch 20/50\n",
            "164/164 [==============================] - 118s 719ms/step - loss: 0.0599 - accuracy: 0.0983 - val_loss: 0.2675 - val_accuracy: 0.1859\n",
            "Epoch 21/50\n",
            "164/164 [==============================] - 118s 717ms/step - loss: 0.0496 - accuracy: 0.1913 - val_loss: 0.3010 - val_accuracy: 0.1795\n",
            "Epoch 22/50\n",
            "164/164 [==============================] - 118s 717ms/step - loss: 0.0422 - accuracy: 0.1877 - val_loss: 0.3216 - val_accuracy: 0.2404\n",
            "Epoch 23/50\n",
            "164/164 [==============================] - 117s 716ms/step - loss: 0.0502 - accuracy: 0.1843 - val_loss: 0.3582 - val_accuracy: 0.2115\n",
            "Epoch 24/50\n",
            "164/164 [==============================] - 117s 716ms/step - loss: 0.0478 - accuracy: 0.1872 - val_loss: 0.5077 - val_accuracy: 0.1619\n",
            "Epoch 25/50\n",
            "164/164 [==============================] - 117s 715ms/step - loss: 0.0425 - accuracy: 0.1911 - val_loss: 0.4190 - val_accuracy: 0.2308\n",
            "Epoch 26/50\n",
            "164/164 [==============================] - 118s 721ms/step - loss: 0.0397 - accuracy: 0.2074 - val_loss: 0.4298 - val_accuracy: 0.2099\n",
            "Epoch 27/50\n",
            "164/164 [==============================] - 119s 724ms/step - loss: 0.0508 - accuracy: 0.1834 - val_loss: 0.3119 - val_accuracy: 0.1667\n",
            "Epoch 28/50\n",
            "164/164 [==============================] - 117s 716ms/step - loss: 0.0433 - accuracy: 0.1967 - val_loss: 0.3515 - val_accuracy: 0.2837\n",
            "Epoch 29/50\n",
            "164/164 [==============================] - 118s 717ms/step - loss: 0.0398 - accuracy: 0.2341 - val_loss: 0.4106 - val_accuracy: 0.2115\n",
            "Epoch 30/50\n",
            "164/164 [==============================] - 118s 720ms/step - loss: 0.0351 - accuracy: 0.2068 - val_loss: 0.4585 - val_accuracy: 0.2837\n",
            "Epoch 31/50\n",
            "164/164 [==============================] - 118s 720ms/step - loss: 0.0447 - accuracy: 0.2924 - val_loss: 0.4006 - val_accuracy: 0.1619\n",
            "Epoch 32/50\n",
            "164/164 [==============================] - 118s 721ms/step - loss: 0.0386 - accuracy: 0.1716 - val_loss: 0.3898 - val_accuracy: 0.2580\n",
            "Epoch 33/50\n",
            "164/164 [==============================] - 118s 718ms/step - loss: 0.0463 - accuracy: 0.1843 - val_loss: 0.3374 - val_accuracy: 0.1442\n",
            "Epoch 34/50\n",
            "164/164 [==============================] - 117s 716ms/step - loss: 0.0576 - accuracy: 0.1650 - val_loss: 0.6122 - val_accuracy: 0.2580\n",
            "Epoch 35/50\n",
            "164/164 [==============================] - 119s 722ms/step - loss: 0.0365 - accuracy: 0.2084 - val_loss: 0.4842 - val_accuracy: 0.1987\n",
            "Epoch 36/50\n",
            "164/164 [==============================] - 119s 724ms/step - loss: 0.0276 - accuracy: 0.2513 - val_loss: 0.4492 - val_accuracy: 0.2244\n",
            "Epoch 37/50\n",
            "164/164 [==============================] - 118s 720ms/step - loss: 0.0307 - accuracy: 0.2796 - val_loss: 0.3976 - val_accuracy: 0.2788\n",
            "Epoch 38/50\n",
            "164/164 [==============================] - 118s 721ms/step - loss: 0.0532 - accuracy: 0.2440 - val_loss: 0.3983 - val_accuracy: 0.1795\n",
            "Epoch 39/50\n",
            "164/164 [==============================] - 118s 720ms/step - loss: 0.0457 - accuracy: 0.2078 - val_loss: 0.3722 - val_accuracy: 0.1955\n",
            "Epoch 40/50\n",
            "164/164 [==============================] - 118s 719ms/step - loss: 0.0441 - accuracy: 0.1808 - val_loss: 0.4965 - val_accuracy: 0.2292\n",
            "Epoch 41/50\n",
            "164/164 [==============================] - 118s 720ms/step - loss: 0.0286 - accuracy: 0.2663 - val_loss: 0.2767 - val_accuracy: 0.0994\n",
            "Epoch 42/50\n",
            "164/164 [==============================] - 118s 720ms/step - loss: 0.0319 - accuracy: 0.2573 - val_loss: 0.5047 - val_accuracy: 0.3077\n",
            "Epoch 43/50\n",
            "164/164 [==============================] - 118s 721ms/step - loss: 0.0442 - accuracy: 0.1643 - val_loss: 0.3442 - val_accuracy: 0.2436\n",
            "Epoch 44/50\n",
            "164/164 [==============================] - 118s 722ms/step - loss: 0.0472 - accuracy: 0.1763 - val_loss: 0.3790 - val_accuracy: 0.2260\n",
            "Epoch 45/50\n",
            "164/164 [==============================] - 119s 723ms/step - loss: 0.0350 - accuracy: 0.2582 - val_loss: 0.5477 - val_accuracy: 0.1346\n",
            "Epoch 46/50\n",
            "164/164 [==============================] - 119s 725ms/step - loss: 0.0378 - accuracy: 0.2189 - val_loss: 0.3421 - val_accuracy: 0.1122\n",
            "Epoch 47/50\n",
            "164/164 [==============================] - 119s 723ms/step - loss: 0.0328 - accuracy: 0.1610 - val_loss: 0.5355 - val_accuracy: 0.3029\n",
            "Epoch 48/50\n",
            "164/164 [==============================] - 119s 724ms/step - loss: 0.0417 - accuracy: 0.2597 - val_loss: 0.3377 - val_accuracy: 0.1571\n",
            "Epoch 49/50\n",
            "164/164 [==============================] - 119s 726ms/step - loss: 0.0337 - accuracy: 0.1604 - val_loss: 0.3103 - val_accuracy: 0.2019\n",
            "Epoch 50/50\n",
            "164/164 [==============================] - 119s 726ms/step - loss: 0.0352 - accuracy: 0.2507 - val_loss: 0.6006 - val_accuracy: 0.3125\n"
          ],
          "name": "stdout"
        }
      ]
    },
    {
      "cell_type": "code",
      "metadata": {
        "id": "4fsOtUVNpX9t",
        "colab": {
          "base_uri": "https://localhost:8080/",
          "height": 265
        },
        "outputId": "4ba51e27-9b1d-492f-92a7-7aafadc0db7d"
      },
      "source": [
        "history.history\n",
        "plt.plot(range(len(history.history['loss'])), history.history['loss'], color='red')\n",
        "plt.plot(range(len(history.history['val_loss'])), history.history['val_loss'], color='blue')\n",
        "\n",
        "plt.show()"
      ],
      "execution_count": 11,
      "outputs": [
        {
          "output_type": "display_data",
          "data": {
            "image/png": "[encoded data removed]",
            "text/plain": [
              "<Figure size 432x288 with 1 Axes>"
            ]
          },
          "metadata": {
            "tags": [],
            "needs_background": "light"
          }
        }
      ]
    }
  ]
}