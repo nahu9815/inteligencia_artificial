{
  "nbformat": 4,
  "nbformat_minor": 0,
  "metadata": {
    "accelerator": "GPU",
    "colab": {
      "name": "Chest Xray VGG16.ipynb",
      "provenance": [],
      "collapsed_sections": [],
      "include_colab_link": true
    },
    "kernelspec": {
      "display_name": "Python 3",
      "name": "python3"
    },
    "language_info": {
      "name": "python"
    }
  },
  "cells": [
    {
      "cell_type": "markdown",
      "metadata": {
        "id": "view-in-github",
        "colab_type": "text"
      },
      "source": [
        "<a href=\"https://colab.research.google.com/github/nahu9815/inteligencia_artificial/blob/main/Chest_Xray_VGG16%2010%20epoch%2047%25%20accuracy.ipynb\" target=\"_parent\"><img src=\"https://colab.research.google.com/assets/colab-badge.svg\" alt=\"Open In Colab\"/></a>"
      ]
    },
    {
      "cell_type": "code",
      "metadata": {
        "id": "OdZY7LCRo9OY"
      },
      "source": [
        "import os\n",
        "from keras.preprocessing.image import ImageDataGenerator \n",
        "# https://keras.io/api/preprocessing/image/#image-data-preprocessing\n",
        "from keras.applications.imagenet_utils import preprocess_input\n",
        "\n",
        "from keras.applications.vgg16 import VGG16\n",
        "from keras.applications.inception_v3 import InceptionV3\n",
        "from keras.models import Model\n",
        "\n",
        "from keras.layers import Dense, Flatten, Dropout \n",
        "#from tensorflow.keras.layers import InputLayer, Dense, BatchNormalization, Dropout, Flatten, Activation\n",
        "#from tensorflow.keras.models import Sequential\n",
        "from keras.optimizers import Adam\n",
        "from keras.losses import binary_crossentropy\n",
        "from keras.metrics import accuracy\n",
        "\n",
        "import matplotlib.pyplot as plt\n",
        "#!pip install pandas"
      ],
      "execution_count": 37,
      "outputs": []
    },
    {
      "cell_type": "code",
      "metadata": {
        "colab": {
          "base_uri": "https://localhost:8080/"
        },
        "id": "4yp-rPUopcf4",
        "outputId": "eb98c575-ea6d-4910-bd03-4e592b800304"
      },
      "source": [
        "from google.colab import drive\n",
        "drive.mount('/content/drive')"
      ],
      "execution_count": 38,
      "outputs": [
        {
          "output_type": "stream",
          "text": [
            "Drive already mounted at /content/drive; to attempt to forcibly remount, call drive.mount(\"/content/drive\", force_remount=True).\n"
          ],
          "name": "stdout"
        }
      ]
    },
    {
      "cell_type": "code",
      "metadata": {
        "colab": {
          "base_uri": "https://localhost:8080/"
        },
        "id": "IrOjDMLVpCLY",
        "outputId": "a58dbe69-cf40-4ca2-fd01-038dfc36f630"
      },
      "source": [
        "pathTrain = '/content/drive/MyDrive/INTELIGENCIA_ARTIFICIAL_GRUPO/chest_xray/train/'\n",
        "pathTest = '/content/drive/MyDrive/INTELIGENCIA_ARTIFICIAL_GRUPO/chest_xray/test/'\n",
        "\n",
        "if (os.path.exists(pathTrain) and os.path.exists(pathTest)):\n",
        "    print('OK')\n",
        "else:\n",
        "    print('No existen carpetas')\n",
        "    "
      ],
      "execution_count": 39,
      "outputs": [
        {
          "output_type": "stream",
          "text": [
            "OK\n"
          ],
          "name": "stdout"
        }
      ]
    },
    {
      "cell_type": "code",
      "metadata": {
        "colab": {
          "base_uri": "https://localhost:8080/"
        },
        "id": "8232A0pLpIkW",
        "outputId": "8cd62566-3cad-46eb-89f8-21b387319e46"
      },
      "source": [
        "images_increased = 5\n",
        "width_shape = 224\n",
        "height_shape = 224\n",
        "batch_size = 32\n",
        "\n",
        "train_datagen = ImageDataGenerator(\n",
        "     \n",
        "    rotation_range=20, # rota 20 grados\n",
        "    zoom_range=0.2, # zoom\n",
        "    width_shift_range=0.1, # desplazar 10%\n",
        "    height_shift_range=0.1,  # desplazar 10%\n",
        "    horizontal_flip=True, # invertir horizontalmente\n",
        "    vertical_flip=False,\n",
        "    preprocessing_function=preprocess_input\n",
        ")\n",
        "\n",
        "valid_datagen = ImageDataGenerator( \n",
        "      \n",
        "    rotation_range=20,\n",
        "    zoom_range=0.2,\n",
        "    width_shift_range=0.1,\n",
        "    height_shift_range=0.1,\n",
        "    horizontal_flip=True,\n",
        "    vertical_flip=False,\n",
        "    preprocessing_function=preprocess_input)\n",
        "\n",
        "train_generator = train_datagen.flow_from_directory(  \n",
        "    pathTrain,\n",
        "    target_size=(width_shape, height_shape),\n",
        "    batch_size=batch_size,\n",
        "    class_mode='binary')\n",
        "\n",
        "validation_generator = valid_datagen.flow_from_directory(  \n",
        "    pathTest,\n",
        "    target_size=(width_shape, height_shape),\n",
        "    batch_size=batch_size,\n",
        "    class_mode='binary')"
      ],
      "execution_count": 40,
      "outputs": [
        {
          "output_type": "stream",
          "text": [
            "Found 5232 images belonging to 2 classes.\n",
            "Found 624 images belonging to 2 classes.\n"
          ],
          "name": "stdout"
        }
      ]
    },
    {
      "cell_type": "code",
      "metadata": {
        "colab": {
          "base_uri": "https://localhost:8080/"
        },
        "id": "WvqFmrW8pKn1",
        "outputId": "dde1e3a3-dfdb-4efa-e9b9-2f87aa131870"
      },
      "source": [
        "inputShape = (height_shape, width_shape, 3)\n",
        "\n",
        "#model = VGG16(include_top=False, weights=\"imagenet\", input_shape=inputShape)\n",
        "#model.summary()\n",
        "\n",
        "model = VGG16(include_top=False, weights=\"imagenet\", input_shape=inputShape)\n",
        "for layer in model.layers:\n",
        "    layer.trainable = False\n",
        "model.summary()\n",
        "   "
      ],
      "execution_count": 41,
      "outputs": [
        {
          "output_type": "stream",
          "text": [
            "Model: \"vgg16\"\n",
            "_________________________________________________________________\n",
            "Layer (type)                 Output Shape              Param #   \n",
            "=================================================================\n",
            "input_5 (InputLayer)         [(None, 224, 224, 3)]     0         \n",
            "_________________________________________________________________\n",
            "block1_conv1 (Conv2D)        (None, 224, 224, 64)      1792      \n",
            "_________________________________________________________________\n",
            "block1_conv2 (Conv2D)        (None, 224, 224, 64)      36928     \n",
            "_________________________________________________________________\n",
            "block1_pool (MaxPooling2D)   (None, 112, 112, 64)      0         \n",
            "_________________________________________________________________\n",
            "block2_conv1 (Conv2D)        (None, 112, 112, 128)     73856     \n",
            "_________________________________________________________________\n",
            "block2_conv2 (Conv2D)        (None, 112, 112, 128)     147584    \n",
            "_________________________________________________________________\n",
            "block2_pool (MaxPooling2D)   (None, 56, 56, 128)       0         \n",
            "_________________________________________________________________\n",
            "block3_conv1 (Conv2D)        (None, 56, 56, 256)       295168    \n",
            "_________________________________________________________________\n",
            "block3_conv2 (Conv2D)        (None, 56, 56, 256)       590080    \n",
            "_________________________________________________________________\n",
            "block3_conv3 (Conv2D)        (None, 56, 56, 256)       590080    \n",
            "_________________________________________________________________\n",
            "block3_pool (MaxPooling2D)   (None, 28, 28, 256)       0         \n",
            "_________________________________________________________________\n",
            "block4_conv1 (Conv2D)        (None, 28, 28, 512)       1180160   \n",
            "_________________________________________________________________\n",
            "block4_conv2 (Conv2D)        (None, 28, 28, 512)       2359808   \n",
            "_________________________________________________________________\n",
            "block4_conv3 (Conv2D)        (None, 28, 28, 512)       2359808   \n",
            "_________________________________________________________________\n",
            "block4_pool (MaxPooling2D)   (None, 14, 14, 512)       0         \n",
            "_________________________________________________________________\n",
            "block5_conv1 (Conv2D)        (None, 14, 14, 512)       2359808   \n",
            "_________________________________________________________________\n",
            "block5_conv2 (Conv2D)        (None, 14, 14, 512)       2359808   \n",
            "_________________________________________________________________\n",
            "block5_conv3 (Conv2D)        (None, 14, 14, 512)       2359808   \n",
            "_________________________________________________________________\n",
            "block5_pool (MaxPooling2D)   (None, 7, 7, 512)         0         \n",
            "=================================================================\n",
            "Total params: 14,714,688\n",
            "Trainable params: 0\n",
            "Non-trainable params: 14,714,688\n",
            "_________________________________________________________________\n"
          ],
          "name": "stdout"
        }
      ]
    },
    {
      "cell_type": "code",
      "metadata": {
        "id": "eFkVbaEZpM8R"
      },
      "source": [
        "def load_fc_layers(model):\n",
        "    \n",
        "    # add new classifier layers\n",
        "    \n",
        "    flat = Flatten()(model.layers[-1].output)\n",
        "    dense = Dense(128, activation='relu', kernel_initializer='he_uniform')(flat)\n",
        "    output = Dense(1, activation='sigmoid')(dense)\n",
        "    model = Model(inputs=model.inputs, outputs=output)\n",
        "    \n",
        "    return model\n",
        "    "
      ],
      "execution_count": 42,
      "outputs": []
    },
    {
      "cell_type": "code",
      "metadata": {
        "colab": {
          "base_uri": "https://localhost:8080/"
        },
        "id": "v1Xe-FuJpQCt",
        "outputId": "71d9bcad-743e-4331-d754-91d093c11149"
      },
      "source": [
        "fullModel = load_fc_layers(model)\n",
        "fullModel.summary()"
      ],
      "execution_count": 43,
      "outputs": [
        {
          "output_type": "stream",
          "text": [
            "Model: \"model_4\"\n",
            "_________________________________________________________________\n",
            "Layer (type)                 Output Shape              Param #   \n",
            "=================================================================\n",
            "input_5 (InputLayer)         [(None, 224, 224, 3)]     0         \n",
            "_________________________________________________________________\n",
            "block1_conv1 (Conv2D)        (None, 224, 224, 64)      1792      \n",
            "_________________________________________________________________\n",
            "block1_conv2 (Conv2D)        (None, 224, 224, 64)      36928     \n",
            "_________________________________________________________________\n",
            "block1_pool (MaxPooling2D)   (None, 112, 112, 64)      0         \n",
            "_________________________________________________________________\n",
            "block2_conv1 (Conv2D)        (None, 112, 112, 128)     73856     \n",
            "_________________________________________________________________\n",
            "block2_conv2 (Conv2D)        (None, 112, 112, 128)     147584    \n",
            "_________________________________________________________________\n",
            "block2_pool (MaxPooling2D)   (None, 56, 56, 128)       0         \n",
            "_________________________________________________________________\n",
            "block3_conv1 (Conv2D)        (None, 56, 56, 256)       295168    \n",
            "_________________________________________________________________\n",
            "block3_conv2 (Conv2D)        (None, 56, 56, 256)       590080    \n",
            "_________________________________________________________________\n",
            "block3_conv3 (Conv2D)        (None, 56, 56, 256)       590080    \n",
            "_________________________________________________________________\n",
            "block3_pool (MaxPooling2D)   (None, 28, 28, 256)       0         \n",
            "_________________________________________________________________\n",
            "block4_conv1 (Conv2D)        (None, 28, 28, 512)       1180160   \n",
            "_________________________________________________________________\n",
            "block4_conv2 (Conv2D)        (None, 28, 28, 512)       2359808   \n",
            "_________________________________________________________________\n",
            "block4_conv3 (Conv2D)        (None, 28, 28, 512)       2359808   \n",
            "_________________________________________________________________\n",
            "block4_pool (MaxPooling2D)   (None, 14, 14, 512)       0         \n",
            "_________________________________________________________________\n",
            "block5_conv1 (Conv2D)        (None, 14, 14, 512)       2359808   \n",
            "_________________________________________________________________\n",
            "block5_conv2 (Conv2D)        (None, 14, 14, 512)       2359808   \n",
            "_________________________________________________________________\n",
            "block5_conv3 (Conv2D)        (None, 14, 14, 512)       2359808   \n",
            "_________________________________________________________________\n",
            "block5_pool (MaxPooling2D)   (None, 7, 7, 512)         0         \n",
            "_________________________________________________________________\n",
            "flatten_4 (Flatten)          (None, 25088)             0         \n",
            "_________________________________________________________________\n",
            "dense_8 (Dense)              (None, 128)               3211392   \n",
            "_________________________________________________________________\n",
            "dense_9 (Dense)              (None, 1)                 129       \n",
            "=================================================================\n",
            "Total params: 17,926,209\n",
            "Trainable params: 3,211,521\n",
            "Non-trainable params: 14,714,688\n",
            "_________________________________________________________________\n"
          ],
          "name": "stdout"
        }
      ]
    },
    {
      "cell_type": "code",
      "metadata": {
        "id": "sZ_VlmHEpSsm"
      },
      "source": [
        "\n",
        "adam = Adam(learning_rate=0.001)\n",
        "\n",
        "fullModel.compile(\n",
        "    optimizer=adam,\n",
        "    loss=binary_crossentropy,\n",
        "    metrics=[accuracy]\n",
        ")"
      ],
      "execution_count": 44,
      "outputs": []
    },
    {
      "cell_type": "code",
      "metadata": {
        "colab": {
          "base_uri": "https://localhost:8080/"
        },
        "id": "VPfIKnwwpUxV",
        "outputId": "ef2778d0-5309-4c1f-8641-423cfd7623d8"
      },
      "source": [
        "epoch = 10\n",
        "\n",
        "history = fullModel.fit(\n",
        "    train_generator,\n",
        "    validation_data=validation_generator,\n",
        "    epochs=epoch, verbose = 1\n",
        ")"
      ],
      "execution_count": 45,
      "outputs": [
        {
          "output_type": "stream",
          "text": [
            "Epoch 1/10\n",
            "164/164 [==============================] - 121s 731ms/step - loss: 7.0332 - accuracy: 0.6768 - val_loss: 1.7116 - val_accuracy: 0.5913\n",
            "Epoch 2/10\n",
            "164/164 [==============================] - 118s 721ms/step - loss: 0.5841 - accuracy: 0.6747 - val_loss: 2.8519 - val_accuracy: 0.6106\n",
            "Epoch 3/10\n",
            "164/164 [==============================] - 118s 720ms/step - loss: 0.4723 - accuracy: 0.6656 - val_loss: 1.0906 - val_accuracy: 0.5929\n",
            "Epoch 4/10\n",
            "164/164 [==============================] - 118s 720ms/step - loss: 0.2086 - accuracy: 0.6031 - val_loss: 0.3950 - val_accuracy: 0.3558\n",
            "Epoch 5/10\n",
            "164/164 [==============================] - 118s 718ms/step - loss: 0.1224 - accuracy: 0.3593 - val_loss: 0.5517 - val_accuracy: 0.3894\n",
            "Epoch 6/10\n",
            "164/164 [==============================] - 118s 717ms/step - loss: 0.0825 - accuracy: 0.3421 - val_loss: 0.5795 - val_accuracy: 0.4071\n",
            "Epoch 7/10\n",
            "164/164 [==============================] - 119s 724ms/step - loss: 0.0722 - accuracy: 0.3985 - val_loss: 0.2580 - val_accuracy: 0.2853\n",
            "Epoch 8/10\n",
            "164/164 [==============================] - 117s 715ms/step - loss: 0.0788 - accuracy: 0.3108 - val_loss: 0.5320 - val_accuracy: 0.4199\n",
            "Epoch 9/10\n",
            "164/164 [==============================] - 117s 715ms/step - loss: 0.0694 - accuracy: 0.3942 - val_loss: 0.5327 - val_accuracy: 0.3333\n",
            "Epoch 10/10\n",
            "164/164 [==============================] - 118s 718ms/step - loss: 0.0790 - accuracy: 0.3640 - val_loss: 0.3456 - val_accuracy: 0.2965\n"
          ],
          "name": "stdout"
        }
      ]
    },
    {
      "cell_type": "code",
      "metadata": {
        "id": "4fsOtUVNpX9t",
        "colab": {
          "base_uri": "https://localhost:8080/",
          "height": 265
        },
        "outputId": "1732b9a5-b94e-4083-8b39-abce860a5ff1"
      },
      "source": [
        "history.history\n",
        "plt.plot(range(len(history.history['loss'])), history.history['loss'], color='red')\n",
        "plt.plot(range(len(history.history['val_loss'])), history.history['val_loss'], color='blue')\n",
        "\n",
        "plt.show()"
      ],
      "execution_count": 46,
      "outputs": [
        {
          "output_type": "display_data",
          "data": {
            "image/png": "[encoded data removed]",
            "text/plain": [
              "<Figure size 432x288 with 1 Axes>"
            ]
          },
          "metadata": {
            "tags": [],
            "needs_background": "light"
          }
        }
      ]
    }
  ]
}