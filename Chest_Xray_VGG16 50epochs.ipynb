{
  "nbformat": 4,
  "nbformat_minor": 0,
  "metadata": {
    "colab": {
      "name": "Chest Xray VGG16.ipynb",
      "provenance": [],
      "authorship_tag": "ABX9TyNgG68Wwo65WEpOKh9gqfS/",
      "include_colab_link": true
    },
    "kernelspec": {
      "name": "python3",
      "display_name": "Python 3"
    },
    "language_info": {
      "name": "python"
    },
    "accelerator": "GPU"
  },
  "cells": [
    {
      "cell_type": "markdown",
      "metadata": {
        "id": "view-in-github",
        "colab_type": "text"
      },
      "source": [
        "<a href=\"https://colab.research.google.com/github/nahu9815/inteligencia_artificial/blob/main/Chest_Xray_VGG16%2050epochs.ipynb\" target=\"_parent\"><img src=\"https://colab.research.google.com/assets/colab-badge.svg\" alt=\"Open In Colab\"/></a>"
      ]
    },
    {
      "cell_type": "code",
      "metadata": {
        "id": "OdZY7LCRo9OY"
      },
      "source": [
        "import os\n",
        "from keras.preprocessing.image import ImageDataGenerator \n",
        "# https://keras.io/api/preprocessing/image/#image-data-preprocessing\n",
        "from keras.applications.imagenet_utils import preprocess_input\n",
        "\n",
        "from keras.applications.vgg16 import VGG16\n",
        "\n",
        "from keras.models import Model\n",
        "\n",
        "from keras.layers import Dense, Flatten\n",
        "\n",
        "from keras.optimizers import Adam\n",
        "from keras.losses import binary_crossentropy\n",
        "from keras.metrics import accuracy\n",
        "\n",
        "import matplotlib.pyplot as plt\n",
        "#!pip install pandas"
      ],
      "execution_count": 1,
      "outputs": []
    },
    {
      "cell_type": "code",
      "metadata": {
        "colab": {
          "base_uri": "https://localhost:8080/"
        },
        "id": "4yp-rPUopcf4",
        "outputId": "aad714d5-93b2-43d7-8b81-74b3af140f21"
      },
      "source": [
        "from google.colab import drive\n",
        "drive.mount('/content/drive')"
      ],
      "execution_count": 2,
      "outputs": [
        {
          "output_type": "stream",
          "text": [
            "Drive already mounted at /content/drive; to attempt to forcibly remount, call drive.mount(\"/content/drive\", force_remount=True).\n"
          ],
          "name": "stdout"
        }
      ]
    },
    {
      "cell_type": "code",
      "metadata": {
        "colab": {
          "base_uri": "https://localhost:8080/"
        },
        "id": "IrOjDMLVpCLY",
        "outputId": "7c4178ef-d2c7-4674-93d6-6445de4c594d"
      },
      "source": [
        "pathTrain = '/content/drive/MyDrive/INTELIGENCIA_ARTIFICIAL_GRUPO/chest_xray/train/'\n",
        "pathTest = '/content/drive/MyDrive/INTELIGENCIA_ARTIFICIAL_GRUPO/chest_xray/test/'\n",
        "\n",
        "if (os.path.exists(pathTrain) and os.path.exists(pathTest)):\n",
        "    print('OK')\n",
        "else:\n",
        "    print('No existen carpetas')\n",
        "    print('Descomprima el archivo catdog.zip o puede descargar otro dataset: https://www.kaggle.com/arpitjain007/dog-vs-cat-fastai')"
      ],
      "execution_count": 3,
      "outputs": [
        {
          "output_type": "stream",
          "text": [
            "OK\n"
          ],
          "name": "stdout"
        }
      ]
    },
    {
      "cell_type": "code",
      "metadata": {
        "colab": {
          "base_uri": "https://localhost:8080/"
        },
        "id": "8232A0pLpIkW",
        "outputId": "6f46bbc7-cc4e-4ddc-9467-3d59686803ee"
      },
      "source": [
        "images_increased = 5\n",
        "width_shape = 224\n",
        "height_shape = 224\n",
        "batch_size = 32\n",
        "\n",
        "train_datagen = ImageDataGenerator(\n",
        "    rotation_range=20, # rota 20 grados\n",
        "    zoom_range=0.2, # zoom\n",
        "    width_shift_range=0.1, # desplazar 10%\n",
        "    height_shift_range=0.1,  # desplazar 10%\n",
        "    horizontal_flip=True, # invertir horizontalmente\n",
        "    vertical_flip=False,\n",
        "    preprocessing_function=preprocess_input\n",
        ")\n",
        "\n",
        "valid_datagen = ImageDataGenerator(    \n",
        "    rotation_range=20,\n",
        "    zoom_range=0.2,\n",
        "    width_shift_range=0.1,\n",
        "    height_shift_range=0.1,\n",
        "    horizontal_flip=True,\n",
        "    vertical_flip=False,\n",
        "    preprocessing_function=preprocess_input)\n",
        "\n",
        "train_generator = train_datagen.flow_from_directory(  \n",
        "    pathTrain,\n",
        "    target_size=(width_shape, height_shape),\n",
        "    batch_size=batch_size,\n",
        "    class_mode='binary')\n",
        "\n",
        "validation_generator = valid_datagen.flow_from_directory(  \n",
        "    pathTest,\n",
        "    target_size=(width_shape, height_shape),\n",
        "    batch_size=batch_size,\n",
        "    class_mode='binary')"
      ],
      "execution_count": 4,
      "outputs": [
        {
          "output_type": "stream",
          "text": [
            "Found 5232 images belonging to 2 classes.\n",
            "Found 624 images belonging to 2 classes.\n"
          ],
          "name": "stdout"
        }
      ]
    },
    {
      "cell_type": "code",
      "metadata": {
        "colab": {
          "base_uri": "https://localhost:8080/"
        },
        "id": "WvqFmrW8pKn1",
        "outputId": "483944be-625e-47f6-e7cd-8cec95420996"
      },
      "source": [
        "inputShape = (height_shape, width_shape, 3)\n",
        "\n",
        "\n",
        "model = VGG16(include_top=False, weights=\"imagenet\", input_shape=inputShape)\n",
        "model.summary()"
      ],
      "execution_count": 5,
      "outputs": [
        {
          "output_type": "stream",
          "text": [
            "Model: \"vgg16\"\n",
            "_________________________________________________________________\n",
            "Layer (type)                 Output Shape              Param #   \n",
            "=================================================================\n",
            "input_1 (InputLayer)         [(None, 224, 224, 3)]     0         \n",
            "_________________________________________________________________\n",
            "block1_conv1 (Conv2D)        (None, 224, 224, 64)      1792      \n",
            "_________________________________________________________________\n",
            "block1_conv2 (Conv2D)        (None, 224, 224, 64)      36928     \n",
            "_________________________________________________________________\n",
            "block1_pool (MaxPooling2D)   (None, 112, 112, 64)      0         \n",
            "_________________________________________________________________\n",
            "block2_conv1 (Conv2D)        (None, 112, 112, 128)     73856     \n",
            "_________________________________________________________________\n",
            "block2_conv2 (Conv2D)        (None, 112, 112, 128)     147584    \n",
            "_________________________________________________________________\n",
            "block2_pool (MaxPooling2D)   (None, 56, 56, 128)       0         \n",
            "_________________________________________________________________\n",
            "block3_conv1 (Conv2D)        (None, 56, 56, 256)       295168    \n",
            "_________________________________________________________________\n",
            "block3_conv2 (Conv2D)        (None, 56, 56, 256)       590080    \n",
            "_________________________________________________________________\n",
            "block3_conv3 (Conv2D)        (None, 56, 56, 256)       590080    \n",
            "_________________________________________________________________\n",
            "block3_pool (MaxPooling2D)   (None, 28, 28, 256)       0         \n",
            "_________________________________________________________________\n",
            "block4_conv1 (Conv2D)        (None, 28, 28, 512)       1180160   \n",
            "_________________________________________________________________\n",
            "block4_conv2 (Conv2D)        (None, 28, 28, 512)       2359808   \n",
            "_________________________________________________________________\n",
            "block4_conv3 (Conv2D)        (None, 28, 28, 512)       2359808   \n",
            "_________________________________________________________________\n",
            "block4_pool (MaxPooling2D)   (None, 14, 14, 512)       0         \n",
            "_________________________________________________________________\n",
            "block5_conv1 (Conv2D)        (None, 14, 14, 512)       2359808   \n",
            "_________________________________________________________________\n",
            "block5_conv2 (Conv2D)        (None, 14, 14, 512)       2359808   \n",
            "_________________________________________________________________\n",
            "block5_conv3 (Conv2D)        (None, 14, 14, 512)       2359808   \n",
            "_________________________________________________________________\n",
            "block5_pool (MaxPooling2D)   (None, 7, 7, 512)         0         \n",
            "=================================================================\n",
            "Total params: 14,714,688\n",
            "Trainable params: 14,714,688\n",
            "Non-trainable params: 0\n",
            "_________________________________________________________________\n"
          ],
          "name": "stdout"
        }
      ]
    },
    {
      "cell_type": "code",
      "metadata": {
        "id": "eFkVbaEZpM8R"
      },
      "source": [
        "def load_fc_layers(model):\n",
        "    \n",
        "    # add new classifier layers\n",
        "    flat = Flatten()(model.layers[-1].output)\n",
        "    dense = Dense(256, activation='relu', kernel_initializer='he_uniform')(flat)\n",
        "    output = Dense(1, activation='sigmoid')(dense)\n",
        "    model = Model(inputs=model.inputs, outputs=output)\n",
        "    \n",
        "    return model"
      ],
      "execution_count": 6,
      "outputs": []
    },
    {
      "cell_type": "code",
      "metadata": {
        "colab": {
          "base_uri": "https://localhost:8080/"
        },
        "id": "v1Xe-FuJpQCt",
        "outputId": "87a25797-5150-4654-916f-ff0b6eb3cdb5"
      },
      "source": [
        "fullModel = load_fc_layers(model)\n",
        "fullModel.summary()"
      ],
      "execution_count": 7,
      "outputs": [
        {
          "output_type": "stream",
          "text": [
            "Model: \"model\"\n",
            "_________________________________________________________________\n",
            "Layer (type)                 Output Shape              Param #   \n",
            "=================================================================\n",
            "input_1 (InputLayer)         [(None, 224, 224, 3)]     0         \n",
            "_________________________________________________________________\n",
            "block1_conv1 (Conv2D)        (None, 224, 224, 64)      1792      \n",
            "_________________________________________________________________\n",
            "block1_conv2 (Conv2D)        (None, 224, 224, 64)      36928     \n",
            "_________________________________________________________________\n",
            "block1_pool (MaxPooling2D)   (None, 112, 112, 64)      0         \n",
            "_________________________________________________________________\n",
            "block2_conv1 (Conv2D)        (None, 112, 112, 128)     73856     \n",
            "_________________________________________________________________\n",
            "block2_conv2 (Conv2D)        (None, 112, 112, 128)     147584    \n",
            "_________________________________________________________________\n",
            "block2_pool (MaxPooling2D)   (None, 56, 56, 128)       0         \n",
            "_________________________________________________________________\n",
            "block3_conv1 (Conv2D)        (None, 56, 56, 256)       295168    \n",
            "_________________________________________________________________\n",
            "block3_conv2 (Conv2D)        (None, 56, 56, 256)       590080    \n",
            "_________________________________________________________________\n",
            "block3_conv3 (Conv2D)        (None, 56, 56, 256)       590080    \n",
            "_________________________________________________________________\n",
            "block3_pool (MaxPooling2D)   (None, 28, 28, 256)       0         \n",
            "_________________________________________________________________\n",
            "block4_conv1 (Conv2D)        (None, 28, 28, 512)       1180160   \n",
            "_________________________________________________________________\n",
            "block4_conv2 (Conv2D)        (None, 28, 28, 512)       2359808   \n",
            "_________________________________________________________________\n",
            "block4_conv3 (Conv2D)        (None, 28, 28, 512)       2359808   \n",
            "_________________________________________________________________\n",
            "block4_pool (MaxPooling2D)   (None, 14, 14, 512)       0         \n",
            "_________________________________________________________________\n",
            "block5_conv1 (Conv2D)        (None, 14, 14, 512)       2359808   \n",
            "_________________________________________________________________\n",
            "block5_conv2 (Conv2D)        (None, 14, 14, 512)       2359808   \n",
            "_________________________________________________________________\n",
            "block5_conv3 (Conv2D)        (None, 14, 14, 512)       2359808   \n",
            "_________________________________________________________________\n",
            "block5_pool (MaxPooling2D)   (None, 7, 7, 512)         0         \n",
            "_________________________________________________________________\n",
            "flatten (Flatten)            (None, 25088)             0         \n",
            "_________________________________________________________________\n",
            "dense (Dense)                (None, 256)               6422784   \n",
            "_________________________________________________________________\n",
            "dense_1 (Dense)              (None, 1)                 257       \n",
            "=================================================================\n",
            "Total params: 21,137,729\n",
            "Trainable params: 21,137,729\n",
            "Non-trainable params: 0\n",
            "_________________________________________________________________\n"
          ],
          "name": "stdout"
        }
      ]
    },
    {
      "cell_type": "code",
      "metadata": {
        "id": "sZ_VlmHEpSsm"
      },
      "source": [
        "adam = Adam(learning_rate=0.001)\n",
        "\n",
        "fullModel.compile(\n",
        "    optimizer=adam,\n",
        "    loss=binary_crossentropy,\n",
        "    metrics=[accuracy]\n",
        ")"
      ],
      "execution_count": 8,
      "outputs": []
    },
    {
      "cell_type": "code",
      "metadata": {
        "colab": {
          "base_uri": "https://localhost:8080/"
        },
        "id": "VPfIKnwwpUxV",
        "outputId": "a30fa3cb-4e9d-4240-d99b-999b83b613cd"
      },
      "source": [
        "epoch = 50\n",
        "\n",
        "history = fullModel.fit(\n",
        "    train_generator,\n",
        "    validation_data=validation_generator,\n",
        "    epochs=epoch\n",
        ")"
      ],
      "execution_count": 9,
      "outputs": [
        {
          "output_type": "stream",
          "text": [
            "Epoch 1/50\n",
            "164/164 [==============================] - 1008s 6s/step - loss: 33.4202 - accuracy: 0.0742 - val_loss: 0.7109 - val_accuracy: 0.0000e+00\n",
            "Epoch 2/50\n",
            "164/164 [==============================] - 137s 837ms/step - loss: 0.3697 - accuracy: 6.6517e-05 - val_loss: 0.4759 - val_accuracy: 0.0000e+00\n",
            "Epoch 3/50\n",
            "164/164 [==============================] - 138s 841ms/step - loss: 0.4013 - accuracy: 0.0027 - val_loss: 0.6631 - val_accuracy: 0.0000e+00\n",
            "Epoch 4/50\n",
            "164/164 [==============================] - 136s 828ms/step - loss: 0.5874 - accuracy: 0.0000e+00 - val_loss: 0.6848 - val_accuracy: 0.0000e+00\n",
            "Epoch 5/50\n",
            "164/164 [==============================] - 135s 822ms/step - loss: 0.5668 - accuracy: 0.0000e+00 - val_loss: 0.6933 - val_accuracy: 0.0000e+00\n",
            "Epoch 6/50\n",
            "164/164 [==============================] - 134s 818ms/step - loss: 0.5744 - accuracy: 0.0000e+00 - val_loss: 0.6957 - val_accuracy: 0.0000e+00\n",
            "Epoch 7/50\n",
            "164/164 [==============================] - 133s 811ms/step - loss: 0.5715 - accuracy: 0.0000e+00 - val_loss: 0.6953 - val_accuracy: 0.0000e+00\n",
            "Epoch 8/50\n",
            "164/164 [==============================] - 133s 809ms/step - loss: 0.5747 - accuracy: 0.0000e+00 - val_loss: 0.6953 - val_accuracy: 0.0000e+00\n",
            "Epoch 9/50\n",
            "164/164 [==============================] - 134s 814ms/step - loss: 0.5651 - accuracy: 0.0000e+00 - val_loss: 0.6923 - val_accuracy: 0.0000e+00\n",
            "Epoch 10/50\n",
            "164/164 [==============================] - 133s 811ms/step - loss: 0.5870 - accuracy: 0.0000e+00 - val_loss: 0.7030 - val_accuracy: 0.0000e+00\n",
            "Epoch 11/50\n",
            "164/164 [==============================] - 133s 811ms/step - loss: 0.5812 - accuracy: 0.0000e+00 - val_loss: 0.6995 - val_accuracy: 0.0000e+00\n",
            "Epoch 12/50\n",
            "164/164 [==============================] - 134s 816ms/step - loss: 0.5702 - accuracy: 0.0000e+00 - val_loss: 0.6922 - val_accuracy: 0.0000e+00\n",
            "Epoch 13/50\n",
            "164/164 [==============================] - 134s 815ms/step - loss: 0.5687 - accuracy: 0.0000e+00 - val_loss: 0.6937 - val_accuracy: 0.0000e+00\n",
            "Epoch 14/50\n",
            "164/164 [==============================] - 134s 815ms/step - loss: 0.5777 - accuracy: 0.0000e+00 - val_loss: 0.6943 - val_accuracy: 0.0000e+00\n",
            "Epoch 15/50\n",
            "164/164 [==============================] - 135s 822ms/step - loss: 0.5777 - accuracy: 0.0000e+00 - val_loss: 0.6956 - val_accuracy: 0.0000e+00\n",
            "Epoch 16/50\n",
            "164/164 [==============================] - 133s 811ms/step - loss: 0.5649 - accuracy: 0.0000e+00 - val_loss: 0.6949 - val_accuracy: 0.0000e+00\n",
            "Epoch 17/50\n",
            "164/164 [==============================] - 133s 809ms/step - loss: 0.5602 - accuracy: 0.0000e+00 - val_loss: 0.6930 - val_accuracy: 0.0000e+00\n",
            "Epoch 18/50\n",
            "164/164 [==============================] - 132s 807ms/step - loss: 0.5698 - accuracy: 0.0000e+00 - val_loss: 0.6970 - val_accuracy: 0.0000e+00\n",
            "Epoch 19/50\n",
            "164/164 [==============================] - 132s 807ms/step - loss: 0.5652 - accuracy: 0.0000e+00 - val_loss: 0.6928 - val_accuracy: 0.0000e+00\n",
            "Epoch 20/50\n",
            "164/164 [==============================] - 133s 807ms/step - loss: 0.5714 - accuracy: 0.0000e+00 - val_loss: 0.6963 - val_accuracy: 0.0000e+00\n",
            "Epoch 21/50\n",
            "164/164 [==============================] - 132s 806ms/step - loss: 0.5712 - accuracy: 0.0000e+00 - val_loss: 0.6938 - val_accuracy: 0.0000e+00\n",
            "Epoch 22/50\n",
            "164/164 [==============================] - 133s 808ms/step - loss: 0.5759 - accuracy: 0.0000e+00 - val_loss: 0.6972 - val_accuracy: 0.0000e+00\n",
            "Epoch 23/50\n",
            "164/164 [==============================] - 132s 806ms/step - loss: 0.5838 - accuracy: 0.0000e+00 - val_loss: 0.6973 - val_accuracy: 0.0000e+00\n",
            "Epoch 24/50\n",
            "164/164 [==============================] - 132s 806ms/step - loss: 0.5675 - accuracy: 0.0000e+00 - val_loss: 0.6952 - val_accuracy: 0.0000e+00\n",
            "Epoch 25/50\n",
            "164/164 [==============================] - 134s 816ms/step - loss: 0.5679 - accuracy: 0.0000e+00 - val_loss: 0.6942 - val_accuracy: 0.0000e+00\n",
            "Epoch 26/50\n",
            "164/164 [==============================] - 133s 809ms/step - loss: 0.5725 - accuracy: 0.0000e+00 - val_loss: 0.6929 - val_accuracy: 0.0000e+00\n",
            "Epoch 27/50\n",
            "164/164 [==============================] - 133s 809ms/step - loss: 0.5772 - accuracy: 0.0000e+00 - val_loss: 0.6968 - val_accuracy: 0.0000e+00\n",
            "Epoch 28/50\n",
            "164/164 [==============================] - 133s 810ms/step - loss: 0.5680 - accuracy: 0.0000e+00 - val_loss: 0.6946 - val_accuracy: 0.0000e+00\n",
            "Epoch 29/50\n",
            "164/164 [==============================] - 134s 817ms/step - loss: 0.5710 - accuracy: 0.0000e+00 - val_loss: 0.6978 - val_accuracy: 0.0000e+00\n",
            "Epoch 30/50\n",
            "164/164 [==============================] - 135s 819ms/step - loss: 0.5695 - accuracy: 0.0000e+00 - val_loss: 0.6912 - val_accuracy: 0.0000e+00\n",
            "Epoch 31/50\n",
            "164/164 [==============================] - 135s 823ms/step - loss: 0.5728 - accuracy: 0.0000e+00 - val_loss: 0.6980 - val_accuracy: 0.0000e+00\n",
            "Epoch 32/50\n",
            "164/164 [==============================] - 134s 817ms/step - loss: 0.5630 - accuracy: 0.0000e+00 - val_loss: 0.6918 - val_accuracy: 0.0000e+00\n",
            "Epoch 33/50\n",
            "164/164 [==============================] - 134s 816ms/step - loss: 0.5699 - accuracy: 0.0000e+00 - val_loss: 0.6919 - val_accuracy: 0.0000e+00\n",
            "Epoch 34/50\n",
            "164/164 [==============================] - 135s 822ms/step - loss: 0.5637 - accuracy: 0.0000e+00 - val_loss: 0.6955 - val_accuracy: 0.0000e+00\n",
            "Epoch 35/50\n",
            "164/164 [==============================] - 135s 821ms/step - loss: 0.5731 - accuracy: 0.0000e+00 - val_loss: 0.6979 - val_accuracy: 0.0000e+00\n",
            "Epoch 36/50\n",
            "164/164 [==============================] - 135s 821ms/step - loss: 0.5753 - accuracy: 0.0000e+00 - val_loss: 0.6961 - val_accuracy: 0.0000e+00\n",
            "Epoch 37/50\n",
            "164/164 [==============================] - 134s 817ms/step - loss: 0.5778 - accuracy: 0.0000e+00 - val_loss: 0.6959 - val_accuracy: 0.0000e+00\n",
            "Epoch 38/50\n",
            "164/164 [==============================] - 135s 820ms/step - loss: 0.5755 - accuracy: 0.0000e+00 - val_loss: 0.6947 - val_accuracy: 0.0000e+00\n",
            "Epoch 39/50\n",
            "164/164 [==============================] - 135s 819ms/step - loss: 0.5650 - accuracy: 0.0000e+00 - val_loss: 0.6896 - val_accuracy: 0.0000e+00\n",
            "Epoch 40/50\n",
            "164/164 [==============================] - 135s 821ms/step - loss: 0.5706 - accuracy: 0.0000e+00 - val_loss: 0.6953 - val_accuracy: 0.0000e+00\n",
            "Epoch 41/50\n",
            "164/164 [==============================] - 133s 810ms/step - loss: 0.5723 - accuracy: 0.0000e+00 - val_loss: 0.6974 - val_accuracy: 0.0000e+00\n",
            "Epoch 42/50\n",
            "164/164 [==============================] - 133s 810ms/step - loss: 0.5548 - accuracy: 0.0000e+00 - val_loss: 0.6869 - val_accuracy: 0.0000e+00\n",
            "Epoch 43/50\n",
            "164/164 [==============================] - 133s 809ms/step - loss: 0.5692 - accuracy: 0.0000e+00 - val_loss: 0.6902 - val_accuracy: 0.0000e+00\n",
            "Epoch 44/50\n",
            "164/164 [==============================] - 133s 810ms/step - loss: 0.5705 - accuracy: 0.0000e+00 - val_loss: 0.6929 - val_accuracy: 0.0000e+00\n",
            "Epoch 45/50\n",
            "164/164 [==============================] - 133s 808ms/step - loss: 0.5705 - accuracy: 0.0000e+00 - val_loss: 0.6949 - val_accuracy: 0.0000e+00\n",
            "Epoch 46/50\n",
            "164/164 [==============================] - 133s 810ms/step - loss: 0.5848 - accuracy: 0.0000e+00 - val_loss: 0.6999 - val_accuracy: 0.0000e+00\n",
            "Epoch 47/50\n",
            "164/164 [==============================] - 133s 808ms/step - loss: 0.5614 - accuracy: 0.0000e+00 - val_loss: 0.6936 - val_accuracy: 0.0000e+00\n",
            "Epoch 48/50\n",
            "164/164 [==============================] - 133s 809ms/step - loss: 0.5837 - accuracy: 0.0000e+00 - val_loss: 0.7015 - val_accuracy: 0.0000e+00\n",
            "Epoch 49/50\n",
            "164/164 [==============================] - 133s 811ms/step - loss: 0.5620 - accuracy: 0.0000e+00 - val_loss: 0.6918 - val_accuracy: 0.0000e+00\n",
            "Epoch 50/50\n",
            "164/164 [==============================] - 133s 810ms/step - loss: 0.5646 - accuracy: 0.0000e+00 - val_loss: 0.6929 - val_accuracy: 0.0000e+00\n"
          ],
          "name": "stdout"
        }
      ]
    },
    {
      "cell_type": "code",
      "metadata": {
        "colab": {
          "base_uri": "https://localhost:8080/",
          "height": 265
        },
        "id": "4fsOtUVNpX9t",
        "outputId": "c7d984db-cb1f-4237-e064-78343386614c"
      },
      "source": [
        "history.history\n",
        "plt.plot(range(len(history.history['loss'])), history.history['loss'], color='red')\n",
        "plt.plot(range(len(history.history['val_loss'])), history.history['val_loss'], color='blue')\n",
        "\n",
        "plt.show()"
      ],
      "execution_count": 10,
      "outputs": [
        {
          "output_type": "display_data",
          "data": {
            "image/png": "[encoded data removed]",
            "text/plain": [
              "<Figure size 432x288 with 1 Axes>"
            ]
          },
          "metadata": {
            "tags": [],
            "needs_background": "light"
          }
        }
      ]
    }
  ]
}