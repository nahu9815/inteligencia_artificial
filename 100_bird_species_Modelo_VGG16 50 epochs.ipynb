{
  "nbformat": 4,
  "nbformat_minor": 0,
  "metadata": {
    "colab": {
      "name": "100_bird_species Modelo VGG16.ipynb",
      "provenance": [],
      "collapsed_sections": [],
      "authorship_tag": "ABX9TyOJw/vLYxF7nEz5yQ+SrpRb",
      "include_colab_link": true
    },
    "kernelspec": {
      "name": "python3",
      "display_name": "Python 3"
    },
    "language_info": {
      "name": "python"
    },
    "accelerator": "GPU"
  },
  "cells": [
    {
      "cell_type": "markdown",
      "metadata": {
        "id": "view-in-github",
        "colab_type": "text"
      },
      "source": [
        "<a href=\"https://colab.research.google.com/github/nahu9815/inteligencia_artificial/blob/main/100_bird_species_Modelo_VGG16%2050%20epochs.ipynb\" target=\"_parent\"><img src=\"https://colab.research.google.com/assets/colab-badge.svg\" alt=\"Open In Colab\"/></a>"
      ]
    },
    {
      "cell_type": "code",
      "metadata": {
        "id": "wkuF3EnnKgNP"
      },
      "source": [
        "import os\n",
        "from keras.preprocessing.image import ImageDataGenerator \n",
        "# https://keras.io/api/preprocessing/image/#image-data-preprocessing\n",
        "from keras.applications.imagenet_utils import preprocess_input\n",
        "from keras.applications.vgg16 import VGG16\n",
        "#from keras.applications.resnet50 import ResNet50\n",
        "from keras.models import Model\n",
        "from keras.layers import Dense, Flatten\n",
        "from keras.optimizers import Adam\n",
        "from keras.losses import categorical_crossentropy\n",
        "from keras.metrics import accuracy\n",
        "import numpy as np\n",
        "import matplotlib.pyplot as plt"
      ],
      "execution_count": 13,
      "outputs": []
    },
    {
      "cell_type": "code",
      "metadata": {
        "id": "GTvEb-htKsw_",
        "colab": {
          "base_uri": "https://localhost:8080/"
        },
        "outputId": "ebdd16f3-2f58-49aa-e6dc-96b444e1965f"
      },
      "source": [
        "from google.colab import drive\n",
        "drive.mount('/content/drive')"
      ],
      "execution_count": 14,
      "outputs": [
        {
          "output_type": "stream",
          "text": [
            "Drive already mounted at /content/drive; to attempt to forcibly remount, call drive.mount(\"/content/drive\", force_remount=True).\n"
          ],
          "name": "stdout"
        }
      ]
    },
    {
      "cell_type": "code",
      "metadata": {
        "id": "ZQWPSLBKLaCS",
        "colab": {
          "base_uri": "https://localhost:8080/"
        },
        "outputId": "0736d4e0-b0ab-442a-be70-98532d49ca2b"
      },
      "source": [
        "#pathTrain = '/content/drive/MyDrive/INTELIGENCIA_ARTIFICIAL_GRUPO/archive/train' #con 275 clases\n",
        "#pathTest = '/content/drive/MyDrive/INTELIGENCIA_ARTIFICIAL_GRUPO/archive/test'   #con 275 clases\n",
        "pathTrain = '/content/drive/MyDrive/INTELIGENCIA_ARTIFICIAL_GRUPO/birds/train' #con 10 clases\n",
        "pathTest = '/content/drive/MyDrive/INTELIGENCIA_ARTIFICIAL_GRUPO/birds/test'  #con 10 clases nada mas\n",
        "if (os.path.exists(pathTrain) and os.path.exists(pathTest)):\n",
        "    print('OK')\n",
        "else:\n",
        "    print('No existen carpetas')\n"
      ],
      "execution_count": 15,
      "outputs": [
        {
          "output_type": "stream",
          "text": [
            "OK\n"
          ],
          "name": "stdout"
        }
      ]
    },
    {
      "cell_type": "code",
      "metadata": {
        "id": "h8Sa7eNwMPL_",
        "colab": {
          "base_uri": "https://localhost:8080/"
        },
        "outputId": "037953ef-4619-42d3-bbd7-61e62acc3a32"
      },
      "source": [
        "images_increased = 5\n",
        "width_shape = 224\n",
        "height_shape = 224\n",
        "batch_size = 32\n",
        "\n",
        "train_datagen = ImageDataGenerator(\n",
        "    rotation_range=20, # rota 20 grados\n",
        "    zoom_range=0.2, # zoom\n",
        "    width_shift_range=0.1, # desplazar 10%\n",
        "    height_shift_range=0.1,  # desplazar 10%\n",
        "    horizontal_flip=True, # invertir horizontalmente\n",
        "    vertical_flip=False,\n",
        "    preprocessing_function=preprocess_input\n",
        ")\n",
        "\n",
        "valid_datagen = ImageDataGenerator(    \n",
        "    rotation_range=20,\n",
        "    zoom_range=0.2,\n",
        "    width_shift_range=0.1,\n",
        "    height_shift_range=0.1,\n",
        "    horizontal_flip=True,\n",
        "    vertical_flip=False,\n",
        "    preprocessing_function=preprocess_input)\n",
        "\n",
        "train_generator = train_datagen.flow_from_directory(  \n",
        "    pathTrain,\n",
        "    target_size=(width_shape, height_shape),\n",
        "    batch_size=batch_size,\n",
        "    class_mode='categorical')\n",
        "\n",
        "validation_generator = valid_datagen.flow_from_directory(  \n",
        "    pathTest,\n",
        "    target_size=(width_shape, height_shape),\n",
        "    batch_size=32,\n",
        "    class_mode='categorical')"
      ],
      "execution_count": 16,
      "outputs": [
        {
          "output_type": "stream",
          "text": [
            "Found 1524 images belonging to 10 classes.\n",
            "Found 50 images belonging to 10 classes.\n"
          ],
          "name": "stdout"
        }
      ]
    },
    {
      "cell_type": "code",
      "metadata": {
        "id": "k70DhxC1MdFL",
        "colab": {
          "base_uri": "https://localhost:8080/"
        },
        "outputId": "a79e7a7b-22cb-499d-f764-e160112465b3"
      },
      "source": [
        "inputShape = (height_shape, width_shape, 3)\n",
        "\n",
        "\n",
        "model = VGG16(include_top=False, weights=\"imagenet\", input_shape=inputShape)\n",
        "model.summary()"
      ],
      "execution_count": 17,
      "outputs": [
        {
          "output_type": "stream",
          "text": [
            "Model: \"vgg16\"\n",
            "_________________________________________________________________\n",
            "Layer (type)                 Output Shape              Param #   \n",
            "=================================================================\n",
            "input_2 (InputLayer)         [(None, 224, 224, 3)]     0         \n",
            "_________________________________________________________________\n",
            "block1_conv1 (Conv2D)        (None, 224, 224, 64)      1792      \n",
            "_________________________________________________________________\n",
            "block1_conv2 (Conv2D)        (None, 224, 224, 64)      36928     \n",
            "_________________________________________________________________\n",
            "block1_pool (MaxPooling2D)   (None, 112, 112, 64)      0         \n",
            "_________________________________________________________________\n",
            "block2_conv1 (Conv2D)        (None, 112, 112, 128)     73856     \n",
            "_________________________________________________________________\n",
            "block2_conv2 (Conv2D)        (None, 112, 112, 128)     147584    \n",
            "_________________________________________________________________\n",
            "block2_pool (MaxPooling2D)   (None, 56, 56, 128)       0         \n",
            "_________________________________________________________________\n",
            "block3_conv1 (Conv2D)        (None, 56, 56, 256)       295168    \n",
            "_________________________________________________________________\n",
            "block3_conv2 (Conv2D)        (None, 56, 56, 256)       590080    \n",
            "_________________________________________________________________\n",
            "block3_conv3 (Conv2D)        (None, 56, 56, 256)       590080    \n",
            "_________________________________________________________________\n",
            "block3_pool (MaxPooling2D)   (None, 28, 28, 256)       0         \n",
            "_________________________________________________________________\n",
            "block4_conv1 (Conv2D)        (None, 28, 28, 512)       1180160   \n",
            "_________________________________________________________________\n",
            "block4_conv2 (Conv2D)        (None, 28, 28, 512)       2359808   \n",
            "_________________________________________________________________\n",
            "block4_conv3 (Conv2D)        (None, 28, 28, 512)       2359808   \n",
            "_________________________________________________________________\n",
            "block4_pool (MaxPooling2D)   (None, 14, 14, 512)       0         \n",
            "_________________________________________________________________\n",
            "block5_conv1 (Conv2D)        (None, 14, 14, 512)       2359808   \n",
            "_________________________________________________________________\n",
            "block5_conv2 (Conv2D)        (None, 14, 14, 512)       2359808   \n",
            "_________________________________________________________________\n",
            "block5_conv3 (Conv2D)        (None, 14, 14, 512)       2359808   \n",
            "_________________________________________________________________\n",
            "block5_pool (MaxPooling2D)   (None, 7, 7, 512)         0         \n",
            "=================================================================\n",
            "Total params: 14,714,688\n",
            "Trainable params: 14,714,688\n",
            "Non-trainable params: 0\n",
            "_________________________________________________________________\n"
          ],
          "name": "stdout"
        }
      ]
    },
    {
      "cell_type": "code",
      "metadata": {
        "id": "i-EgJ0RsMg6p"
      },
      "source": [
        "def load_fc_layers(model):\n",
        "    \n",
        "    # add new classifier layers\n",
        "    flat = Flatten()(model.layers[-1].output)\n",
        "    dense = Dense(128, activation='relu', kernel_initializer='he_uniform')(flat)\n",
        "    output = Dense(10, activation='sigmoid')(dense)\n",
        "    model = Model(inputs=model.inputs, outputs=output)\n",
        "    \n",
        "    return model"
      ],
      "execution_count": 18,
      "outputs": []
    },
    {
      "cell_type": "code",
      "metadata": {
        "id": "UzqTytnYMkUV",
        "colab": {
          "base_uri": "https://localhost:8080/"
        },
        "outputId": "823e98a8-da02-4d5e-860f-5a28d84f28d0"
      },
      "source": [
        "fullModel = load_fc_layers(model)\n",
        "fullModel.summary()"
      ],
      "execution_count": 19,
      "outputs": [
        {
          "output_type": "stream",
          "text": [
            "Model: \"model_1\"\n",
            "_________________________________________________________________\n",
            "Layer (type)                 Output Shape              Param #   \n",
            "=================================================================\n",
            "input_2 (InputLayer)         [(None, 224, 224, 3)]     0         \n",
            "_________________________________________________________________\n",
            "block1_conv1 (Conv2D)        (None, 224, 224, 64)      1792      \n",
            "_________________________________________________________________\n",
            "block1_conv2 (Conv2D)        (None, 224, 224, 64)      36928     \n",
            "_________________________________________________________________\n",
            "block1_pool (MaxPooling2D)   (None, 112, 112, 64)      0         \n",
            "_________________________________________________________________\n",
            "block2_conv1 (Conv2D)        (None, 112, 112, 128)     73856     \n",
            "_________________________________________________________________\n",
            "block2_conv2 (Conv2D)        (None, 112, 112, 128)     147584    \n",
            "_________________________________________________________________\n",
            "block2_pool (MaxPooling2D)   (None, 56, 56, 128)       0         \n",
            "_________________________________________________________________\n",
            "block3_conv1 (Conv2D)        (None, 56, 56, 256)       295168    \n",
            "_________________________________________________________________\n",
            "block3_conv2 (Conv2D)        (None, 56, 56, 256)       590080    \n",
            "_________________________________________________________________\n",
            "block3_conv3 (Conv2D)        (None, 56, 56, 256)       590080    \n",
            "_________________________________________________________________\n",
            "block3_pool (MaxPooling2D)   (None, 28, 28, 256)       0         \n",
            "_________________________________________________________________\n",
            "block4_conv1 (Conv2D)        (None, 28, 28, 512)       1180160   \n",
            "_________________________________________________________________\n",
            "block4_conv2 (Conv2D)        (None, 28, 28, 512)       2359808   \n",
            "_________________________________________________________________\n",
            "block4_conv3 (Conv2D)        (None, 28, 28, 512)       2359808   \n",
            "_________________________________________________________________\n",
            "block4_pool (MaxPooling2D)   (None, 14, 14, 512)       0         \n",
            "_________________________________________________________________\n",
            "block5_conv1 (Conv2D)        (None, 14, 14, 512)       2359808   \n",
            "_________________________________________________________________\n",
            "block5_conv2 (Conv2D)        (None, 14, 14, 512)       2359808   \n",
            "_________________________________________________________________\n",
            "block5_conv3 (Conv2D)        (None, 14, 14, 512)       2359808   \n",
            "_________________________________________________________________\n",
            "block5_pool (MaxPooling2D)   (None, 7, 7, 512)         0         \n",
            "_________________________________________________________________\n",
            "flatten_1 (Flatten)          (None, 25088)             0         \n",
            "_________________________________________________________________\n",
            "dense_2 (Dense)              (None, 128)               3211392   \n",
            "_________________________________________________________________\n",
            "dense_3 (Dense)              (None, 10)                1290      \n",
            "=================================================================\n",
            "Total params: 17,927,370\n",
            "Trainable params: 17,927,370\n",
            "Non-trainable params: 0\n",
            "_________________________________________________________________\n"
          ],
          "name": "stdout"
        }
      ]
    },
    {
      "cell_type": "code",
      "metadata": {
        "id": "qtGKQ7xsMn6O"
      },
      "source": [
        "adam = Adam(learning_rate=0.001)\n",
        "\n",
        "fullModel.compile(\n",
        "    optimizer=adam,\n",
        "    loss=categorical_crossentropy,\n",
        "    metrics=[accuracy]\n",
        ")"
      ],
      "execution_count": 20,
      "outputs": []
    },
    {
      "cell_type": "code",
      "metadata": {
        "id": "TojW5OOrMpOJ",
        "colab": {
          "base_uri": "https://localhost:8080/"
        },
        "outputId": "ce1f1693-cbca-479c-f5d1-425940af687a"
      },
      "source": [
        "epoch = 50\n",
        "\n",
        "history = fullModel.fit(\n",
        "    train_generator,\n",
        "    validation_data=validation_generator,\n",
        "    epochs=epoch\n",
        ")"
      ],
      "execution_count": 21,
      "outputs": [
        {
          "output_type": "stream",
          "text": [
            "Epoch 1/50\n",
            "48/48 [==============================] - 25s 495ms/step - loss: 31.6687 - accuracy: 0.0245 - val_loss: 2.3009 - val_accuracy: 0.0000e+00\n",
            "Epoch 2/50\n",
            "48/48 [==============================] - 23s 476ms/step - loss: 2.3057 - accuracy: 0.0000e+00 - val_loss: 2.3031 - val_accuracy: 0.0000e+00\n",
            "Epoch 3/50\n",
            "48/48 [==============================] - 23s 472ms/step - loss: 2.2992 - accuracy: 0.0000e+00 - val_loss: 2.3002 - val_accuracy: 0.0000e+00\n",
            "Epoch 4/50\n",
            "48/48 [==============================] - 23s 471ms/step - loss: 2.2965 - accuracy: 0.0000e+00 - val_loss: 2.2748 - val_accuracy: 0.0000e+00\n",
            "Epoch 5/50\n",
            "48/48 [==============================] - 23s 473ms/step - loss: 2.2868 - accuracy: 0.0000e+00 - val_loss: 2.2682 - val_accuracy: 0.0000e+00\n",
            "Epoch 6/50\n",
            "48/48 [==============================] - 23s 471ms/step - loss: 2.2774 - accuracy: 0.0000e+00 - val_loss: 2.4093 - val_accuracy: 0.0000e+00\n",
            "Epoch 7/50\n",
            "48/48 [==============================] - 23s 471ms/step - loss: 2.2675 - accuracy: 0.0000e+00 - val_loss: 2.2795 - val_accuracy: 0.0000e+00\n",
            "Epoch 8/50\n",
            "48/48 [==============================] - 23s 474ms/step - loss: 2.2323 - accuracy: 0.0000e+00 - val_loss: 2.2768 - val_accuracy: 0.0000e+00\n",
            "Epoch 9/50\n",
            "48/48 [==============================] - 23s 475ms/step - loss: 2.2263 - accuracy: 0.0000e+00 - val_loss: 2.3153 - val_accuracy: 0.0000e+00\n",
            "Epoch 10/50\n",
            "48/48 [==============================] - 23s 469ms/step - loss: 2.8559 - accuracy: 5.7249e-04 - val_loss: 2.3092 - val_accuracy: 0.0000e+00\n",
            "Epoch 11/50\n",
            "48/48 [==============================] - 23s 468ms/step - loss: 2.2972 - accuracy: 0.0000e+00 - val_loss: 2.3089 - val_accuracy: 0.0000e+00\n",
            "Epoch 12/50\n",
            "48/48 [==============================] - 23s 470ms/step - loss: 2.2949 - accuracy: 0.0000e+00 - val_loss: 2.3091 - val_accuracy: 0.0000e+00\n",
            "Epoch 13/50\n",
            "48/48 [==============================] - 23s 468ms/step - loss: 2.2949 - accuracy: 0.0000e+00 - val_loss: 2.3085 - val_accuracy: 0.0000e+00\n",
            "Epoch 14/50\n",
            "48/48 [==============================] - 23s 466ms/step - loss: 2.2951 - accuracy: 0.0000e+00 - val_loss: 2.3084 - val_accuracy: 0.0000e+00\n",
            "Epoch 15/50\n",
            "48/48 [==============================] - 23s 469ms/step - loss: 2.2999 - accuracy: 0.0000e+00 - val_loss: 2.3084 - val_accuracy: 0.0000e+00\n",
            "Epoch 16/50\n",
            "48/48 [==============================] - 23s 475ms/step - loss: 2.2967 - accuracy: 0.0000e+00 - val_loss: 2.3086 - val_accuracy: 0.0000e+00\n",
            "Epoch 17/50\n",
            "48/48 [==============================] - 23s 486ms/step - loss: 2.2949 - accuracy: 0.0000e+00 - val_loss: 2.3087 - val_accuracy: 0.0000e+00\n",
            "Epoch 18/50\n",
            "48/48 [==============================] - 23s 478ms/step - loss: 2.2963 - accuracy: 0.0000e+00 - val_loss: 2.3086 - val_accuracy: 0.0000e+00\n",
            "Epoch 19/50\n",
            "48/48 [==============================] - 23s 468ms/step - loss: 2.2939 - accuracy: 0.0000e+00 - val_loss: 2.3091 - val_accuracy: 0.0000e+00\n",
            "Epoch 20/50\n",
            "48/48 [==============================] - 23s 470ms/step - loss: 2.2944 - accuracy: 0.0000e+00 - val_loss: 2.3091 - val_accuracy: 0.0000e+00\n",
            "Epoch 21/50\n",
            "48/48 [==============================] - 23s 472ms/step - loss: 2.2985 - accuracy: 0.0000e+00 - val_loss: 2.3090 - val_accuracy: 0.0000e+00\n",
            "Epoch 22/50\n",
            "48/48 [==============================] - 23s 469ms/step - loss: 2.2948 - accuracy: 0.0000e+00 - val_loss: 2.3095 - val_accuracy: 0.0000e+00\n",
            "Epoch 23/50\n",
            "48/48 [==============================] - 23s 475ms/step - loss: 2.2981 - accuracy: 0.0000e+00 - val_loss: 2.3094 - val_accuracy: 0.0000e+00\n",
            "Epoch 24/50\n",
            "48/48 [==============================] - 24s 488ms/step - loss: 2.2957 - accuracy: 0.0000e+00 - val_loss: 2.3094 - val_accuracy: 0.0000e+00\n",
            "Epoch 25/50\n",
            "48/48 [==============================] - 23s 474ms/step - loss: 2.2965 - accuracy: 0.0000e+00 - val_loss: 2.3094 - val_accuracy: 0.0000e+00\n",
            "Epoch 26/50\n",
            "48/48 [==============================] - 23s 477ms/step - loss: 2.2928 - accuracy: 0.0000e+00 - val_loss: 2.3097 - val_accuracy: 0.0000e+00\n",
            "Epoch 27/50\n",
            "48/48 [==============================] - 23s 479ms/step - loss: 2.2952 - accuracy: 0.0000e+00 - val_loss: 2.3097 - val_accuracy: 0.0000e+00\n",
            "Epoch 28/50\n",
            "48/48 [==============================] - 23s 472ms/step - loss: 2.2953 - accuracy: 0.0000e+00 - val_loss: 2.3097 - val_accuracy: 0.0000e+00\n",
            "Epoch 29/50\n",
            "48/48 [==============================] - 23s 467ms/step - loss: 2.2905 - accuracy: 0.0000e+00 - val_loss: 2.3098 - val_accuracy: 0.0000e+00\n",
            "Epoch 30/50\n",
            "48/48 [==============================] - 23s 468ms/step - loss: 2.2912 - accuracy: 0.0000e+00 - val_loss: 2.3099 - val_accuracy: 0.0000e+00\n",
            "Epoch 31/50\n",
            "48/48 [==============================] - 23s 469ms/step - loss: 2.2937 - accuracy: 0.0000e+00 - val_loss: 2.3098 - val_accuracy: 0.0000e+00\n",
            "Epoch 32/50\n",
            "48/48 [==============================] - 23s 470ms/step - loss: 2.2921 - accuracy: 0.0000e+00 - val_loss: 2.3099 - val_accuracy: 0.0000e+00\n",
            "Epoch 33/50\n",
            "48/48 [==============================] - 23s 467ms/step - loss: 2.2929 - accuracy: 0.0000e+00 - val_loss: 2.3099 - val_accuracy: 0.0000e+00\n",
            "Epoch 34/50\n",
            "48/48 [==============================] - 23s 470ms/step - loss: 2.2990 - accuracy: 0.0000e+00 - val_loss: 2.3097 - val_accuracy: 0.0000e+00\n",
            "Epoch 35/50\n",
            "48/48 [==============================] - 23s 468ms/step - loss: 2.2952 - accuracy: 0.0000e+00 - val_loss: 2.3099 - val_accuracy: 0.0000e+00\n",
            "Epoch 36/50\n",
            "48/48 [==============================] - 23s 468ms/step - loss: 2.2917 - accuracy: 0.0000e+00 - val_loss: 2.3101 - val_accuracy: 0.0000e+00\n",
            "Epoch 37/50\n",
            "48/48 [==============================] - 23s 468ms/step - loss: 2.2921 - accuracy: 0.0000e+00 - val_loss: 2.3099 - val_accuracy: 0.0000e+00\n",
            "Epoch 38/50\n",
            "48/48 [==============================] - 23s 468ms/step - loss: 2.2911 - accuracy: 0.0000e+00 - val_loss: 2.3100 - val_accuracy: 0.0000e+00\n",
            "Epoch 39/50\n",
            "48/48 [==============================] - 23s 469ms/step - loss: 2.2951 - accuracy: 0.0000e+00 - val_loss: 2.3099 - val_accuracy: 0.0000e+00\n",
            "Epoch 40/50\n",
            "48/48 [==============================] - 23s 466ms/step - loss: 2.2969 - accuracy: 0.0000e+00 - val_loss: 2.3100 - val_accuracy: 0.0000e+00\n",
            "Epoch 41/50\n",
            "48/48 [==============================] - 23s 478ms/step - loss: 2.2970 - accuracy: 0.0000e+00 - val_loss: 2.3098 - val_accuracy: 0.0000e+00\n",
            "Epoch 42/50\n",
            "48/48 [==============================] - 23s 470ms/step - loss: 2.2992 - accuracy: 0.0000e+00 - val_loss: 2.3096 - val_accuracy: 0.0000e+00\n",
            "Epoch 43/50\n",
            "48/48 [==============================] - 23s 468ms/step - loss: 2.2950 - accuracy: 0.0000e+00 - val_loss: 2.3104 - val_accuracy: 0.0000e+00\n",
            "Epoch 44/50\n",
            "48/48 [==============================] - 23s 468ms/step - loss: 2.2899 - accuracy: 0.0000e+00 - val_loss: 2.3103 - val_accuracy: 0.0000e+00\n",
            "Epoch 45/50\n",
            "48/48 [==============================] - 23s 467ms/step - loss: 2.2970 - accuracy: 0.0000e+00 - val_loss: 2.3097 - val_accuracy: 0.0000e+00\n",
            "Epoch 46/50\n",
            "48/48 [==============================] - 23s 470ms/step - loss: 2.2940 - accuracy: 0.0000e+00 - val_loss: 2.3102 - val_accuracy: 0.0000e+00\n",
            "Epoch 47/50\n",
            "48/48 [==============================] - 23s 467ms/step - loss: 2.2995 - accuracy: 0.0000e+00 - val_loss: 2.3101 - val_accuracy: 0.0000e+00\n",
            "Epoch 48/50\n",
            "48/48 [==============================] - 23s 465ms/step - loss: 2.2926 - accuracy: 0.0000e+00 - val_loss: 2.3103 - val_accuracy: 0.0000e+00\n",
            "Epoch 49/50\n",
            "48/48 [==============================] - 23s 469ms/step - loss: 2.2986 - accuracy: 0.0000e+00 - val_loss: 2.3099 - val_accuracy: 0.0000e+00\n",
            "Epoch 50/50\n",
            "48/48 [==============================] - 23s 464ms/step - loss: 2.2944 - accuracy: 0.0000e+00 - val_loss: 2.3101 - val_accuracy: 0.0000e+00\n"
          ],
          "name": "stdout"
        }
      ]
    },
    {
      "cell_type": "code",
      "metadata": {
        "id": "0RVlvq5EMrj8",
        "colab": {
          "base_uri": "https://localhost:8080/",
          "height": 265
        },
        "outputId": "5434dfd6-65ba-43f4-9477-932b0f0843ef"
      },
      "source": [
        "\n",
        "history.history\n",
        "plt.plot(range(len(history.history['loss'])), history.history['loss'], color='red')\n",
        "plt.plot(range(len(history.history['val_loss'])), history.history['val_loss'], color='blue')\n",
        "\n",
        "plt.show()"
      ],
      "execution_count": 23,
      "outputs": [
        {
          "output_type": "display_data",
          "data": {
            "image/png": "[encoded data removed]",
            "text/plain": [
              "<Figure size 432x288 with 1 Axes>"
            ]
          },
          "metadata": {
            "tags": [],
            "needs_background": "light"
          }
        }
      ]
    }
  ]
}