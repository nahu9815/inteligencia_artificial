{
  "nbformat": 4,
  "nbformat_minor": 0,
  "metadata": {
    "accelerator": "GPU",
    "colab": {
      "name": "Chest Xray VGG16.ipynb",
      "provenance": [],
      "collapsed_sections": [],
      "include_colab_link": true
    },
    "kernelspec": {
      "display_name": "Python 3",
      "name": "python3"
    },
    "language_info": {
      "name": "python"
    }
  },
  "cells": [
    {
      "cell_type": "markdown",
      "metadata": {
        "id": "view-in-github",
        "colab_type": "text"
      },
      "source": [
        "<a href=\"https://colab.research.google.com/github/nahu9815/inteligencia_artificial/blob/main/Chest_Xray_VGG19%2010%20epoch.ipynb\" target=\"_parent\"><img src=\"https://colab.research.google.com/assets/colab-badge.svg\" alt=\"Open In Colab\"/></a>"
      ]
    },
    {
      "cell_type": "code",
      "metadata": {
        "id": "OdZY7LCRo9OY"
      },
      "source": [
        "import os\n",
        "from keras.preprocessing.image import ImageDataGenerator \n",
        "# https://keras.io/api/preprocessing/image/#image-data-preprocessing\n",
        "from keras.applications.imagenet_utils import preprocess_input\n",
        "\n",
        "from keras.applications.vgg19 import VGG19\n",
        "from keras.applications.inception_v3 import InceptionV3\n",
        "from keras.models import Model\n",
        "\n",
        "from keras.layers import Dense, Flatten, Dropout \n",
        "#from tensorflow.keras.layers import InputLayer, Dense, BatchNormalization, Dropout, Flatten, Activation\n",
        "#from tensorflow.keras.models import Sequential\n",
        "from keras.optimizers import Adam\n",
        "from keras.losses import binary_crossentropy\n",
        "from keras.metrics import accuracy\n",
        "\n",
        "import matplotlib.pyplot as plt\n",
        "#!pip install pandas"
      ],
      "execution_count": 47,
      "outputs": []
    },
    {
      "cell_type": "code",
      "metadata": {
        "colab": {
          "base_uri": "https://localhost:8080/"
        },
        "id": "4yp-rPUopcf4",
        "outputId": "0e4a91ac-07e9-4f2e-eed0-784f42cce047"
      },
      "source": [
        "from google.colab import drive\n",
        "drive.mount('/content/drive')"
      ],
      "execution_count": 48,
      "outputs": [
        {
          "output_type": "stream",
          "text": [
            "Drive already mounted at /content/drive; to attempt to forcibly remount, call drive.mount(\"/content/drive\", force_remount=True).\n"
          ],
          "name": "stdout"
        }
      ]
    },
    {
      "cell_type": "code",
      "metadata": {
        "colab": {
          "base_uri": "https://localhost:8080/"
        },
        "id": "IrOjDMLVpCLY",
        "outputId": "0280da9b-b661-47f8-b780-d541bc7f3546"
      },
      "source": [
        "pathTrain = '/content/drive/MyDrive/INTELIGENCIA_ARTIFICIAL_GRUPO/chest_xray/train/'\n",
        "pathTest = '/content/drive/MyDrive/INTELIGENCIA_ARTIFICIAL_GRUPO/chest_xray/test/'\n",
        "\n",
        "if (os.path.exists(pathTrain) and os.path.exists(pathTest)):\n",
        "    print('OK')\n",
        "else:\n",
        "    print('No existen carpetas')\n",
        "    "
      ],
      "execution_count": 49,
      "outputs": [
        {
          "output_type": "stream",
          "text": [
            "OK\n"
          ],
          "name": "stdout"
        }
      ]
    },
    {
      "cell_type": "code",
      "metadata": {
        "colab": {
          "base_uri": "https://localhost:8080/"
        },
        "id": "8232A0pLpIkW",
        "outputId": "1e0f2a1f-e88e-48a1-a4a5-c2cfbff62ccd"
      },
      "source": [
        "images_increased = 5\n",
        "width_shape = 224\n",
        "height_shape = 224\n",
        "batch_size = 32\n",
        "\n",
        "train_datagen = ImageDataGenerator(\n",
        "     \n",
        "    rotation_range=20, # rota 20 grados\n",
        "    zoom_range=0.2, # zoom\n",
        "    width_shift_range=0.1, # desplazar 10%\n",
        "    height_shift_range=0.1,  # desplazar 10%\n",
        "    horizontal_flip=True, # invertir horizontalmente\n",
        "    vertical_flip=False,\n",
        "    preprocessing_function=preprocess_input\n",
        ")\n",
        "\n",
        "valid_datagen = ImageDataGenerator( \n",
        "      \n",
        "    rotation_range=20,\n",
        "    zoom_range=0.2,\n",
        "    width_shift_range=0.1,\n",
        "    height_shift_range=0.1,\n",
        "    horizontal_flip=True,\n",
        "    vertical_flip=False,\n",
        "    preprocessing_function=preprocess_input)\n",
        "\n",
        "train_generator = train_datagen.flow_from_directory(  \n",
        "    pathTrain,\n",
        "    target_size=(width_shape, height_shape),\n",
        "    batch_size=batch_size,\n",
        "    class_mode='binary')\n",
        "\n",
        "validation_generator = valid_datagen.flow_from_directory(  \n",
        "    pathTest,\n",
        "    target_size=(width_shape, height_shape),\n",
        "    batch_size=batch_size,\n",
        "    class_mode='binary')"
      ],
      "execution_count": 50,
      "outputs": [
        {
          "output_type": "stream",
          "text": [
            "Found 5232 images belonging to 2 classes.\n",
            "Found 624 images belonging to 2 classes.\n"
          ],
          "name": "stdout"
        }
      ]
    },
    {
      "cell_type": "code",
      "metadata": {
        "colab": {
          "base_uri": "https://localhost:8080/"
        },
        "id": "WvqFmrW8pKn1",
        "outputId": "0439cb67-c823-4980-9dc3-511d011e36ef"
      },
      "source": [
        "inputShape = (height_shape, width_shape, 3)\n",
        "\n",
        "#model = VGG16(include_top=False, weights=\"imagenet\", input_shape=inputShape)\n",
        "#model.summary()\n",
        "\n",
        "model = VGG19(include_top=False, weights=\"imagenet\", input_shape=inputShape)\n",
        "for layer in model.layers:\n",
        "    layer.trainable = False\n",
        "model.summary()\n",
        "   "
      ],
      "execution_count": 51,
      "outputs": [
        {
          "output_type": "stream",
          "text": [
            "Downloading data from https://storage.googleapis.com/tensorflow/keras-applications/vgg19/vgg19_weights_tf_dim_ordering_tf_kernels_notop.h5\n",
            "80142336/80134624 [==============================] - 1s 0us/step\n",
            "80150528/80134624 [==============================] - 1s 0us/step\n",
            "Model: \"vgg19\"\n",
            "_________________________________________________________________\n",
            "Layer (type)                 Output Shape              Param #   \n",
            "=================================================================\n",
            "input_6 (InputLayer)         [(None, 224, 224, 3)]     0         \n",
            "_________________________________________________________________\n",
            "block1_conv1 (Conv2D)        (None, 224, 224, 64)      1792      \n",
            "_________________________________________________________________\n",
            "block1_conv2 (Conv2D)        (None, 224, 224, 64)      36928     \n",
            "_________________________________________________________________\n",
            "block1_pool (MaxPooling2D)   (None, 112, 112, 64)      0         \n",
            "_________________________________________________________________\n",
            "block2_conv1 (Conv2D)        (None, 112, 112, 128)     73856     \n",
            "_________________________________________________________________\n",
            "block2_conv2 (Conv2D)        (None, 112, 112, 128)     147584    \n",
            "_________________________________________________________________\n",
            "block2_pool (MaxPooling2D)   (None, 56, 56, 128)       0         \n",
            "_________________________________________________________________\n",
            "block3_conv1 (Conv2D)        (None, 56, 56, 256)       295168    \n",
            "_________________________________________________________________\n",
            "block3_conv2 (Conv2D)        (None, 56, 56, 256)       590080    \n",
            "_________________________________________________________________\n",
            "block3_conv3 (Conv2D)        (None, 56, 56, 256)       590080    \n",
            "_________________________________________________________________\n",
            "block3_conv4 (Conv2D)        (None, 56, 56, 256)       590080    \n",
            "_________________________________________________________________\n",
            "block3_pool (MaxPooling2D)   (None, 28, 28, 256)       0         \n",
            "_________________________________________________________________\n",
            "block4_conv1 (Conv2D)        (None, 28, 28, 512)       1180160   \n",
            "_________________________________________________________________\n",
            "block4_conv2 (Conv2D)        (None, 28, 28, 512)       2359808   \n",
            "_________________________________________________________________\n",
            "block4_conv3 (Conv2D)        (None, 28, 28, 512)       2359808   \n",
            "_________________________________________________________________\n",
            "block4_conv4 (Conv2D)        (None, 28, 28, 512)       2359808   \n",
            "_________________________________________________________________\n",
            "block4_pool (MaxPooling2D)   (None, 14, 14, 512)       0         \n",
            "_________________________________________________________________\n",
            "block5_conv1 (Conv2D)        (None, 14, 14, 512)       2359808   \n",
            "_________________________________________________________________\n",
            "block5_conv2 (Conv2D)        (None, 14, 14, 512)       2359808   \n",
            "_________________________________________________________________\n",
            "block5_conv3 (Conv2D)        (None, 14, 14, 512)       2359808   \n",
            "_________________________________________________________________\n",
            "block5_conv4 (Conv2D)        (None, 14, 14, 512)       2359808   \n",
            "_________________________________________________________________\n",
            "block5_pool (MaxPooling2D)   (None, 7, 7, 512)         0         \n",
            "=================================================================\n",
            "Total params: 20,024,384\n",
            "Trainable params: 0\n",
            "Non-trainable params: 20,024,384\n",
            "_________________________________________________________________\n"
          ],
          "name": "stdout"
        }
      ]
    },
    {
      "cell_type": "code",
      "metadata": {
        "id": "eFkVbaEZpM8R"
      },
      "source": [
        "def load_fc_layers(model):\n",
        "    \n",
        "    # add new classifier layers\n",
        "    \n",
        "    flat = Flatten()(model.layers[-1].output)\n",
        "    dense = Dense(128, activation='relu', kernel_initializer='he_uniform')(flat)\n",
        "    output = Dense(1, activation='sigmoid')(dense)\n",
        "    model = Model(inputs=model.inputs, outputs=output)\n",
        "    \n",
        "    return model\n",
        "    "
      ],
      "execution_count": 52,
      "outputs": []
    },
    {
      "cell_type": "code",
      "metadata": {
        "colab": {
          "base_uri": "https://localhost:8080/"
        },
        "id": "v1Xe-FuJpQCt",
        "outputId": "912a08ba-2db0-4e51-c527-793d0c8bc41f"
      },
      "source": [
        "fullModel = load_fc_layers(model)\n",
        "fullModel.summary()"
      ],
      "execution_count": 53,
      "outputs": [
        {
          "output_type": "stream",
          "text": [
            "Model: \"model_5\"\n",
            "_________________________________________________________________\n",
            "Layer (type)                 Output Shape              Param #   \n",
            "=================================================================\n",
            "input_6 (InputLayer)         [(None, 224, 224, 3)]     0         \n",
            "_________________________________________________________________\n",
            "block1_conv1 (Conv2D)        (None, 224, 224, 64)      1792      \n",
            "_________________________________________________________________\n",
            "block1_conv2 (Conv2D)        (None, 224, 224, 64)      36928     \n",
            "_________________________________________________________________\n",
            "block1_pool (MaxPooling2D)   (None, 112, 112, 64)      0         \n",
            "_________________________________________________________________\n",
            "block2_conv1 (Conv2D)        (None, 112, 112, 128)     73856     \n",
            "_________________________________________________________________\n",
            "block2_conv2 (Conv2D)        (None, 112, 112, 128)     147584    \n",
            "_________________________________________________________________\n",
            "block2_pool (MaxPooling2D)   (None, 56, 56, 128)       0         \n",
            "_________________________________________________________________\n",
            "block3_conv1 (Conv2D)        (None, 56, 56, 256)       295168    \n",
            "_________________________________________________________________\n",
            "block3_conv2 (Conv2D)        (None, 56, 56, 256)       590080    \n",
            "_________________________________________________________________\n",
            "block3_conv3 (Conv2D)        (None, 56, 56, 256)       590080    \n",
            "_________________________________________________________________\n",
            "block3_conv4 (Conv2D)        (None, 56, 56, 256)       590080    \n",
            "_________________________________________________________________\n",
            "block3_pool (MaxPooling2D)   (None, 28, 28, 256)       0         \n",
            "_________________________________________________________________\n",
            "block4_conv1 (Conv2D)        (None, 28, 28, 512)       1180160   \n",
            "_________________________________________________________________\n",
            "block4_conv2 (Conv2D)        (None, 28, 28, 512)       2359808   \n",
            "_________________________________________________________________\n",
            "block4_conv3 (Conv2D)        (None, 28, 28, 512)       2359808   \n",
            "_________________________________________________________________\n",
            "block4_conv4 (Conv2D)        (None, 28, 28, 512)       2359808   \n",
            "_________________________________________________________________\n",
            "block4_pool (MaxPooling2D)   (None, 14, 14, 512)       0         \n",
            "_________________________________________________________________\n",
            "block5_conv1 (Conv2D)        (None, 14, 14, 512)       2359808   \n",
            "_________________________________________________________________\n",
            "block5_conv2 (Conv2D)        (None, 14, 14, 512)       2359808   \n",
            "_________________________________________________________________\n",
            "block5_conv3 (Conv2D)        (None, 14, 14, 512)       2359808   \n",
            "_________________________________________________________________\n",
            "block5_conv4 (Conv2D)        (None, 14, 14, 512)       2359808   \n",
            "_________________________________________________________________\n",
            "block5_pool (MaxPooling2D)   (None, 7, 7, 512)         0         \n",
            "_________________________________________________________________\n",
            "flatten_5 (Flatten)          (None, 25088)             0         \n",
            "_________________________________________________________________\n",
            "dense_10 (Dense)             (None, 128)               3211392   \n",
            "_________________________________________________________________\n",
            "dense_11 (Dense)             (None, 1)                 129       \n",
            "=================================================================\n",
            "Total params: 23,235,905\n",
            "Trainable params: 3,211,521\n",
            "Non-trainable params: 20,024,384\n",
            "_________________________________________________________________\n"
          ],
          "name": "stdout"
        }
      ]
    },
    {
      "cell_type": "code",
      "metadata": {
        "id": "sZ_VlmHEpSsm"
      },
      "source": [
        "\n",
        "adam = Adam(learning_rate=0.001)\n",
        "\n",
        "fullModel.compile(\n",
        "    optimizer=adam,\n",
        "    loss=binary_crossentropy,\n",
        "    metrics=[accuracy]\n",
        ")"
      ],
      "execution_count": 54,
      "outputs": []
    },
    {
      "cell_type": "code",
      "metadata": {
        "colab": {
          "base_uri": "https://localhost:8080/"
        },
        "id": "VPfIKnwwpUxV",
        "outputId": "61509cde-8dbd-447b-e015-86630c8e85df"
      },
      "source": [
        "epoch = 10\n",
        "\n",
        "history = fullModel.fit(\n",
        "    train_generator,\n",
        "    validation_data=validation_generator,\n",
        "    epochs=epoch, verbose = 1\n",
        ")"
      ],
      "execution_count": 55,
      "outputs": [
        {
          "output_type": "stream",
          "text": [
            "Epoch 1/10\n",
            "164/164 [==============================] - 123s 743ms/step - loss: 6.5210 - accuracy: 0.5655 - val_loss: 0.9640 - val_accuracy: 0.5000\n",
            "Epoch 2/10\n",
            "164/164 [==============================] - 120s 732ms/step - loss: 0.4826 - accuracy: 0.5819 - val_loss: 0.8817 - val_accuracy: 0.5385\n",
            "Epoch 3/10\n",
            "164/164 [==============================] - 120s 732ms/step - loss: 0.1758 - accuracy: 0.5127 - val_loss: 0.8846 - val_accuracy: 0.4615\n",
            "Epoch 4/10\n",
            "164/164 [==============================] - 120s 730ms/step - loss: 0.1841 - accuracy: 0.3984 - val_loss: 0.6326 - val_accuracy: 0.3606\n",
            "Epoch 5/10\n",
            "164/164 [==============================] - 119s 727ms/step - loss: 0.0853 - accuracy: 0.3410 - val_loss: 0.5930 - val_accuracy: 0.2837\n",
            "Epoch 6/10\n",
            "164/164 [==============================] - 119s 723ms/step - loss: 0.0719 - accuracy: 0.2768 - val_loss: 0.7240 - val_accuracy: 0.3125\n",
            "Epoch 7/10\n",
            "164/164 [==============================] - 119s 728ms/step - loss: 0.0840 - accuracy: 0.2670 - val_loss: 0.3883 - val_accuracy: 0.2244\n",
            "Epoch 8/10\n",
            "164/164 [==============================] - 119s 723ms/step - loss: 0.0708 - accuracy: 0.2070 - val_loss: 0.4855 - val_accuracy: 0.3221\n",
            "Epoch 9/10\n",
            "164/164 [==============================] - 119s 725ms/step - loss: 0.0590 - accuracy: 0.2635 - val_loss: 0.3020 - val_accuracy: 0.2869\n",
            "Epoch 10/10\n",
            "164/164 [==============================] - 119s 724ms/step - loss: 0.0572 - accuracy: 0.1438 - val_loss: 0.2890 - val_accuracy: 0.1506\n"
          ],
          "name": "stdout"
        }
      ]
    },
    {
      "cell_type": "code",
      "metadata": {
        "id": "4fsOtUVNpX9t",
        "colab": {
          "base_uri": "https://localhost:8080/",
          "height": 265
        },
        "outputId": "54a1806d-daab-4024-a032-e33ea97a3fe0"
      },
      "source": [
        "history.history\n",
        "plt.plot(range(len(history.history['loss'])), history.history['loss'], color='red')\n",
        "plt.plot(range(len(history.history['val_loss'])), history.history['val_loss'], color='blue')\n",
        "\n",
        "plt.show()"
      ],
      "execution_count": 56,
      "outputs": [
        {
          "output_type": "display_data",
          "data": {
            "image/png": "[encoded data removed]",
            "text/plain": [
              "<Figure size 432x288 with 1 Axes>"
            ]
          },
          "metadata": {
            "tags": [],
            "needs_background": "light"
          }
        }
      ]
    }
  ]
}